{
 "cells": [
  {
   "cell_type": "markdown",
   "id": "6dbba726",
   "metadata": {},
   "source": [
    "### Pandas\n",
    "Pandas is a library like numpy and it's fast,powerful,flexible and easy to use for data analysis.Pandas have different objects like python has lists,tuple,sets so pandas has also objects like series and dataframes"
   ]
  },
  {
   "cell_type": "markdown",
   "id": "bdbc2f4a",
   "metadata": {},
   "source": [
    "### Pandas series\n",
    "A pandas series is like a column in a table.It is 1-D array holding data of any type."
   ]
  },
  {
   "cell_type": "code",
   "execution_count": 3,
   "id": "d53781de",
   "metadata": {},
   "outputs": [],
   "source": [
    "import numpy as np\n",
    "import pandas as pd"
   ]
  },
  {
   "cell_type": "markdown",
   "id": "e9276e3f",
   "metadata": {},
   "source": [
    "### Series from lists"
   ]
  },
  {
   "cell_type": "code",
   "execution_count": 9,
   "id": "fb733661",
   "metadata": {},
   "outputs": [
    {
     "data": {
      "text/plain": [
       "0      pakistan\n",
       "1           uae\n",
       "2        saudia\n",
       "3         nepal\n",
       "4    bangladesh\n",
       "dtype: object"
      ]
     },
     "execution_count": 9,
     "metadata": {},
     "output_type": "execute_result"
    }
   ],
   "source": [
    "# string in python is similar to objets in pandas\n",
    "country = ['pakistan','uae','saudia','nepal','bangladesh']\n",
    "pd.Series(country)"
   ]
  },
  {
   "cell_type": "code",
   "execution_count": 11,
   "id": "749eb5b9",
   "metadata": {},
   "outputs": [
    {
     "data": {
      "text/plain": [
       "0    12\n",
       "1    56\n",
       "2    87\n",
       "3    34\n",
       "4    77\n",
       "dtype: int16"
      ]
     },
     "execution_count": 11,
     "metadata": {},
     "output_type": "execute_result"
    }
   ],
   "source": [
    "# integers\n",
    "score = [12,56,87,34,77]\n",
    "pd.Series(score,dtype=np.int16)"
   ]
  },
  {
   "cell_type": "code",
   "execution_count": 222,
   "id": "ded70e9e",
   "metadata": {},
   "outputs": [
    {
     "data": {
      "text/plain": [
       "urdu        34\n",
       "science     89\n",
       "english     76\n",
       "pst         55\n",
       "maths      100\n",
       "dtype: int16"
      ]
     },
     "execution_count": 222,
     "metadata": {},
     "output_type": "execute_result"
    }
   ],
   "source": [
    "# custom index\n",
    "marks = [34,89,76,55,100]\n",
    "subjects = ['urdu','science','english','pst','maths']\n",
    "marks_list=pd.Series(marks,index=subjects,dtype=np.int16)\n",
    "marks_list"
   ]
  },
  {
   "cell_type": "code",
   "execution_count": 19,
   "id": "32e74087",
   "metadata": {},
   "outputs": [
    {
     "data": {
      "text/plain": [
       "urdu        34\n",
       "science     89\n",
       "english     76\n",
       "pst         55\n",
       "maths      100\n",
       "Name: Sessional marks, dtype: int64"
      ]
     },
     "execution_count": 19,
     "metadata": {},
     "output_type": "execute_result"
    }
   ],
   "source": [
    "# setting a name for series\n",
    "sessional = pd.Series(marks,index=subjects,name='Sessional marks')\n",
    "sessional"
   ]
  },
  {
   "cell_type": "markdown",
   "id": "5e17935e",
   "metadata": {},
   "source": [
    "### Series from dictionaries"
   ]
  },
  {
   "cell_type": "code",
   "execution_count": 25,
   "id": "5a2d4284",
   "metadata": {},
   "outputs": [
    {
     "data": {
      "text/plain": [
       "marks    100\n",
       "pst       49\n",
       "urdu      70\n",
       "Name: Sessional marks dict, dtype: int64"
      ]
     },
     "execution_count": 25,
     "metadata": {},
     "output_type": "execute_result"
    }
   ],
   "source": [
    "marks = {\n",
    "    'marks':100,\n",
    "    'pst':49,\n",
    "    'urdu':70\n",
    "}\n",
    "marks_dict = pd.Series(marks,name='Sessional marks dict')\n",
    "marks_dict"
   ]
  },
  {
   "cell_type": "markdown",
   "id": "4166a282",
   "metadata": {},
   "source": [
    "### Series Attributes"
   ]
  },
  {
   "cell_type": "code",
   "execution_count": 31,
   "id": "7b081362",
   "metadata": {},
   "outputs": [
    {
     "name": "stdout",
     "output_type": "stream",
     "text": [
      "5\n",
      "3\n"
     ]
    }
   ],
   "source": [
    "print(marks_list.size)\n",
    "print(marks_dic.size)"
   ]
  },
  {
   "cell_type": "code",
   "execution_count": 199,
   "id": "66d0658d",
   "metadata": {},
   "outputs": [
    {
     "name": "stdout",
     "output_type": "stream",
     "text": [
      "urdu        34\n",
      "science     89\n",
      "english     76\n",
      "pst         55\n",
      "maths      100\n",
      "dtype: int16\n"
     ]
    },
    {
     "data": {
      "text/plain": [
       "dtype('int16')"
      ]
     },
     "execution_count": 199,
     "metadata": {},
     "output_type": "execute_result"
    }
   ],
   "source": [
    "print(marks_list)\n",
    "marks_list.dtype"
   ]
  },
  {
   "cell_type": "code",
   "execution_count": 35,
   "id": "16dddc8a",
   "metadata": {},
   "outputs": [
    {
     "name": "stdout",
     "output_type": "stream",
     "text": [
      "Sessional marks dict\n"
     ]
    },
    {
     "data": {
      "text/plain": [
       "'Sessional marks'"
      ]
     },
     "execution_count": 35,
     "metadata": {},
     "output_type": "execute_result"
    }
   ],
   "source": [
    "print(marks_dict.name)\n",
    "sessional.name"
   ]
  },
  {
   "cell_type": "code",
   "execution_count": 38,
   "id": "422684a9",
   "metadata": {},
   "outputs": [
    {
     "data": {
      "text/plain": [
       "False"
      ]
     },
     "execution_count": 38,
     "metadata": {},
     "output_type": "execute_result"
    }
   ],
   "source": [
    "# is_unique return true if all elements as unique\n",
    "pd.Series([1,1,2,3,4]).is_unique"
   ]
  },
  {
   "cell_type": "code",
   "execution_count": 42,
   "id": "65b247c3",
   "metadata": {},
   "outputs": [
    {
     "data": {
      "text/plain": [
       "Index([1, 2, 3], dtype='int64')"
      ]
     },
     "execution_count": 42,
     "metadata": {},
     "output_type": "execute_result"
    }
   ],
   "source": [
    "# returns index of series\n",
    "marks_dict.index\n",
    "sessional.index\n",
    "pd.Series({1:'ali',2:'fahad',3:'taha'}).index"
   ]
  },
  {
   "cell_type": "code",
   "execution_count": 43,
   "id": "d36de7be",
   "metadata": {},
   "outputs": [
    {
     "data": {
      "text/plain": [
       "array(['ali', 'fahad', 'taha'], dtype=object)"
      ]
     },
     "execution_count": 43,
     "metadata": {},
     "output_type": "execute_result"
    }
   ],
   "source": [
    "# returns values of series inside a numpy array\n",
    "pd.Series({1:'ali',2:'fahad',3:'taha'}).values"
   ]
  },
  {
   "cell_type": "markdown",
   "id": "34ba25e8",
   "metadata": {},
   "source": [
    "### Series using read_csv"
   ]
  },
  {
   "cell_type": "code",
   "execution_count": 65,
   "id": "42d0bb4c",
   "metadata": {},
   "outputs": [
    {
     "data": {
      "text/plain": [
       "0       48\n",
       "1       57\n",
       "2       40\n",
       "3       43\n",
       "4       44\n",
       "      ... \n",
       "360    231\n",
       "361    226\n",
       "362    155\n",
       "363    144\n",
       "364    172\n",
       "Name: Subscribers gained, Length: 365, dtype: int64"
      ]
     },
     "execution_count": 65,
     "metadata": {},
     "output_type": "execute_result"
    }
   ],
   "source": [
    "# returns dataframe so converted into series using squeeze\n",
    "subs = pd.read_csv('./datasets/subs.csv').squeeze()\n",
    "subs"
   ]
  },
  {
   "cell_type": "code",
   "execution_count": 70,
   "id": "3c69294e",
   "metadata": {},
   "outputs": [
    {
     "data": {
      "text/plain": [
       "match_no\n",
       "1       1\n",
       "2      23\n",
       "3      13\n",
       "4      12\n",
       "5       1\n",
       "       ..\n",
       "211     0\n",
       "212    20\n",
       "213    73\n",
       "214    25\n",
       "215     7\n",
       "Name: runs, Length: 215, dtype: int64"
      ]
     },
     "execution_count": 70,
     "metadata": {},
     "output_type": "execute_result"
    }
   ],
   "source": [
    "runs = pd.read_csv('./datasets/kohli_ipl.csv',index_col='match_no').squeeze()\n",
    "runs"
   ]
  },
  {
   "cell_type": "code",
   "execution_count": 73,
   "id": "b45e521e",
   "metadata": {},
   "outputs": [
    {
     "data": {
      "text/plain": [
       "movie\n",
       "Uri: The Surgical Strike                   Vicky Kaushal\n",
       "Battalion 609                                Vicky Ahuja\n",
       "The Accidental Prime Minister (film)         Anupam Kher\n",
       "Why Cheat India                            Emraan Hashmi\n",
       "Evening Shadows                         Mona Ambegaonkar\n",
       "                                              ...       \n",
       "Hum Tumhare Hain Sanam                    Shah Rukh Khan\n",
       "Aankhen (2002 film)                     Amitabh Bachchan\n",
       "Saathiya (film)                             Vivek Oberoi\n",
       "Company (film)                                Ajay Devgn\n",
       "Awara Paagal Deewana                        Akshay Kumar\n",
       "Name: lead, Length: 1500, dtype: object"
      ]
     },
     "execution_count": 73,
     "metadata": {},
     "output_type": "execute_result"
    }
   ],
   "source": [
    "bolly = pd.read_csv('./datasets/bollywood.csv',index_col='movie').squeeze()\n",
    "bolly"
   ]
  },
  {
   "cell_type": "markdown",
   "id": "2df64a85",
   "metadata": {},
   "source": [
    "### Series methods"
   ]
  },
  {
   "cell_type": "code",
   "execution_count": 83,
   "id": "586333e0",
   "metadata": {},
   "outputs": [
    {
     "name": "stdout",
     "output_type": "stream",
     "text": [
      "match_no\n",
      "1      1\n",
      "2     23\n",
      "3     13\n",
      "4     12\n",
      "5      1\n",
      "6      9\n",
      "7     34\n",
      "8      0\n",
      "9     21\n",
      "10     3\n",
      "Name: runs, dtype: int64\n",
      "362    155\n",
      "363    144\n",
      "364    172\n",
      "Name: Subscribers gained, dtype: int64\n"
     ]
    }
   ],
   "source": [
    "# head and tail\n",
    "subs.head() # top 5 rows\n",
    "print(runs.head(10))\n",
    "subs.tail()\n",
    "print(subs.tail(3))"
   ]
  },
  {
   "cell_type": "code",
   "execution_count": 92,
   "id": "419f9048",
   "metadata": {},
   "outputs": [
    {
     "data": {
      "text/plain": [
       "movie\n",
       "Hate Story 2                Jay Bhanushali\n",
       "Mastizaade                  Tusshar Kapoor\n",
       "Turning 30                       Gul Panag\n",
       "Yeh Hai India                 Gavie Chahal\n",
       "Hazaaron Khwaishein Aisi     Kay Kay Menon\n",
       "Name: lead, dtype: object"
      ]
     },
     "execution_count": 92,
     "metadata": {},
     "output_type": "execute_result"
    }
   ],
   "source": [
    "# sample gets random row/rows from series\n",
    "bolly.sample(5)"
   ]
  },
  {
   "cell_type": "code",
   "execution_count": 100,
   "id": "b66eac2a",
   "metadata": {},
   "outputs": [
    {
     "data": {
      "text/plain": [
       "lead\n",
       "Akshay Kumar        48\n",
       "Amitabh Bachchan    45\n",
       "Ajay Devgn          38\n",
       "Salman Khan         31\n",
       "Sanjay Dutt         26\n",
       "                    ..\n",
       "Diganth              1\n",
       "Parveen Kaur         1\n",
       "Seema Azmi           1\n",
       "Akanksha Puri        1\n",
       "Edwin Fernandes      1\n",
       "Name: count, Length: 566, dtype: int64"
      ]
     },
     "execution_count": 100,
     "metadata": {},
     "output_type": "execute_result"
    }
   ],
   "source": [
    "# value_counts gives frequency of every value\n",
    "bolly.value_counts()"
   ]
  },
  {
   "cell_type": "code",
   "execution_count": 109,
   "id": "f188b6c4",
   "metadata": {},
   "outputs": [
    {
     "name": "stdout",
     "output_type": "stream",
     "text": [
      "match_no\n",
      "128    113\n",
      "126    109\n",
      "123    108\n",
      "164    100\n",
      "120    100\n",
      "      ... \n",
      "93       0\n",
      "211      0\n",
      "130      0\n",
      "8        0\n",
      "135      0\n",
      "Name: runs, Length: 215, dtype: int64\n"
     ]
    },
    {
     "data": {
      "text/plain": [
       "113"
      ]
     },
     "execution_count": 109,
     "metadata": {},
     "output_type": "execute_result"
    }
   ],
   "source": [
    "# sort_values\n",
    "print(runs.sort_values(ascending=False))\n",
    "runs.sort_values(ascending=False).head(1).values[0]"
   ]
  },
  {
   "cell_type": "code",
   "execution_count": 112,
   "id": "6e77c21b",
   "metadata": {},
   "outputs": [
    {
     "data": {
      "text/plain": [
       "match_no\n",
       "128    113\n",
       "126    109\n",
       "123    108\n",
       "164    100\n",
       "120    100\n",
       "      ... \n",
       "93       0\n",
       "211      0\n",
       "130      0\n",
       "8        0\n",
       "135      0\n",
       "Name: runs, Length: 215, dtype: int64"
      ]
     },
     "execution_count": 112,
     "metadata": {},
     "output_type": "execute_result"
    }
   ],
   "source": [
    "# change the original series objects\n",
    "runs.sort_values(ascending=False,inplace=True)"
   ]
  },
  {
   "cell_type": "code",
   "execution_count": 117,
   "id": "1aa30868",
   "metadata": {},
   "outputs": [
    {
     "data": {
      "text/plain": [
       "movie\n",
       "Zor Lagaa Ke...Haiya!            Meghan Jadhav\n",
       "Zokkomon                       Darsheel Safary\n",
       "Zindagi Tere Naam           Mithun Chakraborty\n",
       "Zindagi Na Milegi Dobara        Hrithik Roshan\n",
       "Zindagi 50-50                      Veena Malik\n",
       "                                   ...        \n",
       "2 States (2014 film)              Arjun Kapoor\n",
       "1971 (2007 film)                Manoj Bajpayee\n",
       "1920: The Evil Returns             Vicky Ahuja\n",
       "1920: London                     Sharman Joshi\n",
       "1920 (film)                   Rajniesh Duggall\n",
       "Name: lead, Length: 1500, dtype: object"
      ]
     },
     "execution_count": 117,
     "metadata": {},
     "output_type": "execute_result"
    }
   ],
   "source": [
    "# sort_index sorts based on index\n",
    "bolly.sort_index(ascending=False)"
   ]
  },
  {
   "cell_type": "markdown",
   "id": "56541e17",
   "metadata": {},
   "source": [
    "### Series maths methods"
   ]
  },
  {
   "cell_type": "code",
   "execution_count": 127,
   "id": "d91ad68a",
   "metadata": {},
   "outputs": [
    {
     "data": {
      "text/plain": [
       "4"
      ]
     },
     "execution_count": 127,
     "metadata": {},
     "output_type": "execute_result"
    }
   ],
   "source": [
    "# count -> doesnot count missing values\n",
    "pd.Series([1,2,3,np.nan,5]).count()"
   ]
  },
  {
   "cell_type": "code",
   "execution_count": 134,
   "id": "7943bbd4",
   "metadata": {},
   "outputs": [
    {
     "data": {
      "text/plain": [
       "49510"
      ]
     },
     "execution_count": 134,
     "metadata": {},
     "output_type": "execute_result"
    }
   ],
   "source": [
    "# sum\n",
    "subs.sum()"
   ]
  },
  {
   "cell_type": "code",
   "execution_count": 136,
   "id": "a75baa15",
   "metadata": {},
   "outputs": [
    {
     "data": {
      "text/plain": [
       "24"
      ]
     },
     "execution_count": 136,
     "metadata": {},
     "output_type": "execute_result"
    }
   ],
   "source": [
    "# product\n",
    "pd.Series([1,2,3,4]).prod()"
   ]
  },
  {
   "cell_type": "code",
   "execution_count": 148,
   "id": "a3bc70bd",
   "metadata": {},
   "outputs": [
    {
     "name": "stdout",
     "output_type": "stream",
     "text": [
      "135.64383561643837\n",
      "24.0\n",
      "0    Akshay Kumar\n",
      "Name: lead, dtype: object\n"
     ]
    }
   ],
   "source": [
    "# mean median mode std var\n",
    "print(subs.mean())\n",
    "print(runs.median())\n",
    "print(bolly.mode())\n"
   ]
  },
  {
   "cell_type": "code",
   "execution_count": 151,
   "id": "d6682ff0",
   "metadata": {},
   "outputs": [
    {
     "name": "stdout",
     "output_type": "stream",
     "text": [
      "113\n"
     ]
    }
   ],
   "source": [
    "# min max\n",
    "print(runs.max())"
   ]
  },
  {
   "cell_type": "code",
   "execution_count": 154,
   "id": "9b25e12e",
   "metadata": {},
   "outputs": [
    {
     "data": {
      "text/plain": [
       "count    215.000000\n",
       "mean      30.855814\n",
       "std       26.229801\n",
       "min        0.000000\n",
       "25%        9.000000\n",
       "50%       24.000000\n",
       "75%       48.000000\n",
       "max      113.000000\n",
       "Name: runs, dtype: float64"
      ]
     },
     "execution_count": 154,
     "metadata": {},
     "output_type": "execute_result"
    }
   ],
   "source": [
    "runs.describe()"
   ]
  },
  {
   "cell_type": "markdown",
   "id": "f06bfb46",
   "metadata": {},
   "source": [
    "### Series indexing"
   ]
  },
  {
   "cell_type": "code",
   "execution_count": 161,
   "id": "b41b89e3",
   "metadata": {},
   "outputs": [
    {
     "name": "stdout",
     "output_type": "stream",
     "text": [
      "0    12\n",
      "1    13\n",
      "2    14\n",
      "3    16\n",
      "4    17\n",
      "5    18\n",
      "6    20\n",
      "7    21\n",
      "8    22\n",
      "9    24\n",
      "dtype: int32\n"
     ]
    },
    {
     "data": {
      "text/plain": [
       "13"
      ]
     },
     "execution_count": 161,
     "metadata": {},
     "output_type": "execute_result"
    }
   ],
   "source": [
    "x = pd.Series(np.linspace(12,24,10,dtype=int))\n",
    "print(x)\n",
    "x[1]"
   ]
  },
  {
   "cell_type": "code",
   "execution_count": 176,
   "id": "6f6bafd7",
   "metadata": {},
   "outputs": [
    {
     "name": "stdout",
     "output_type": "stream",
     "text": [
      "movie\n",
      "Uri: The Surgical Strike                   Vicky Kaushal\n",
      "Battalion 609                                Vicky Ahuja\n",
      "The Accidental Prime Minister (film)         Anupam Kher\n",
      "Why Cheat India                            Emraan Hashmi\n",
      "Evening Shadows                         Mona Ambegaonkar\n",
      "                                              ...       \n",
      "Hum Tumhare Hain Sanam                    Shah Rukh Khan\n",
      "Aankhen (2002 film)                     Amitabh Bachchan\n",
      "Saathiya (film)                             Vivek Oberoi\n",
      "Company (film)                                Ajay Devgn\n",
      "Awara Paagal Deewana                        Akshay Kumar\n",
      "Name: lead, Length: 1500, dtype: object\n",
      "Akshay Kumar\n",
      "Vicky Ahuja\n"
     ]
    }
   ],
   "source": [
    "# negative indexing works for custom indexes of strings\n",
    "print(bolly)\n",
    "print(bolly[-1])\n",
    "print(bolly['Battalion 609'])"
   ]
  },
  {
   "cell_type": "code",
   "execution_count": 196,
   "id": "acb77eac",
   "metadata": {},
   "outputs": [
    {
     "data": {
      "text/plain": [
       "match_no\n",
       "1       1\n",
       "3      13\n",
       "5       1\n",
       "7      34\n",
       "9      21\n",
       "       ..\n",
       "207     0\n",
       "209    58\n",
       "211     0\n",
       "213    73\n",
       "215     7\n",
       "Name: runs, Length: 108, dtype: int64"
      ]
     },
     "execution_count": 196,
     "metadata": {},
     "output_type": "execute_result"
    }
   ],
   "source": [
    "runs[::2]"
   ]
  },
  {
   "cell_type": "code",
   "execution_count": 194,
   "id": "33afd977",
   "metadata": {},
   "outputs": [
    {
     "data": {
      "text/plain": [
       "match_no\n",
       "1     1\n",
       "3    13\n",
       "5     1\n",
       "Name: runs, dtype: int64"
      ]
     },
     "execution_count": 194,
     "metadata": {},
     "output_type": "execute_result"
    }
   ],
   "source": [
    "runs[[1,3,5]]"
   ]
  },
  {
   "cell_type": "markdown",
   "id": "cd395fa1",
   "metadata": {},
   "source": [
    "### Editing series"
   ]
  },
  {
   "cell_type": "code",
   "execution_count": 221,
   "id": "feda5314",
   "metadata": {},
   "outputs": [
    {
     "name": "stdout",
     "output_type": "stream",
     "text": [
      "urdu        34\n",
      "science     89\n",
      "english     76\n",
      "pst         55\n",
      "maths      100\n",
      "dtype: int16\n"
     ]
    },
    {
     "data": {
      "text/plain": [
       "urdu        34\n",
       "science     89\n",
       "english     76\n",
       "pst         55\n",
       "maths      100\n",
       "physics     66\n",
       "dtype: int16"
      ]
     },
     "execution_count": 221,
     "metadata": {},
     "output_type": "execute_result"
    }
   ],
   "source": [
    "y = marks_list\n",
    "print(y)\n",
    "y['physics']=66\n",
    "y"
   ]
  },
  {
   "cell_type": "code",
   "execution_count": 217,
   "id": "78c8a161",
   "metadata": {},
   "outputs": [
    {
     "data": {
      "text/plain": [
       "urdu         0\n",
       "science      0\n",
       "english      0\n",
       "pst         55\n",
       "maths      100\n",
       "physics     66\n",
       "dtype: int32"
      ]
     },
     "execution_count": 217,
     "metadata": {},
     "output_type": "execute_result"
    }
   ],
   "source": [
    "y[[0,1,2]]=[0,0,0]\n",
    "y"
   ]
  },
  {
   "cell_type": "markdown",
   "id": "11631598",
   "metadata": {},
   "source": [
    "### Series with python functionalities"
   ]
  },
  {
   "cell_type": "code",
   "execution_count": 231,
   "id": "47bee4d2",
   "metadata": {},
   "outputs": [
    {
     "name": "stdout",
     "output_type": "stream",
     "text": [
      "urdu        34\n",
      "science     89\n",
      "english     76\n",
      "pst         55\n",
      "maths      100\n",
      "dtype: int16\n"
     ]
    },
    {
     "data": {
      "text/plain": [
       "[34, 55, 76, 89, 100]"
      ]
     },
     "execution_count": 231,
     "metadata": {},
     "output_type": "execute_result"
    }
   ],
   "source": [
    "# len/type/dir/sorted/min/max\n",
    "print(marks_list)\n",
    "sorted(marks_list)"
   ]
  },
  {
   "cell_type": "code",
   "execution_count": 239,
   "id": "399dc67b",
   "metadata": {},
   "outputs": [
    {
     "data": {
      "text/plain": [
       "{'urdu': 34, 'science': 89, 'english': 76, 'pst': 55, 'maths': 100}"
      ]
     },
     "execution_count": 239,
     "metadata": {},
     "output_type": "execute_result"
    }
   ],
   "source": [
    "# type conversion\n",
    "dict(marks_list)"
   ]
  },
  {
   "cell_type": "code",
   "execution_count": 247,
   "id": "c5bfdbc6",
   "metadata": {},
   "outputs": [
    {
     "name": "stdout",
     "output_type": "stream",
     "text": [
      "movie\n",
      "Uri: The Surgical Strike                   Vicky Kaushal\n",
      "Battalion 609                                Vicky Ahuja\n",
      "The Accidental Prime Minister (film)         Anupam Kher\n",
      "Why Cheat India                            Emraan Hashmi\n",
      "Evening Shadows                         Mona Ambegaonkar\n",
      "Name: lead, dtype: object\n",
      "True\n",
      "True\n"
     ]
    }
   ],
   "source": [
    "# memebership operator only works on indexes\n",
    "print(bolly.head(5))\n",
    "print('Battalion 609' in bolly)\n",
    "print('Vicky Kaushal' in bolly.values)"
   ]
  },
  {
   "cell_type": "code",
   "execution_count": 253,
   "id": "af124749",
   "metadata": {},
   "outputs": [
    {
     "name": "stdout",
     "output_type": "stream",
     "text": [
      "urdu        34\n",
      "science     89\n",
      "english     76\n",
      "pst         55\n",
      "maths      100\n",
      "dtype: int16\n"
     ]
    },
    {
     "data": {
      "text/plain": [
       "urdu       17.0\n",
       "science    44.5\n",
       "english    38.0\n",
       "pst        27.5\n",
       "maths      50.0\n",
       "dtype: float64"
      ]
     },
     "execution_count": 253,
     "metadata": {},
     "output_type": "execute_result"
    }
   ],
   "source": [
    "# arithmatic operator\n",
    "print(marks_list)\n",
    "(marks_list/200)*100"
   ]
  },
  {
   "cell_type": "code",
   "execution_count": 257,
   "id": "cd642b44",
   "metadata": {},
   "outputs": [
    {
     "name": "stdout",
     "output_type": "stream",
     "text": [
      "urdu        34\n",
      "science     89\n",
      "english     76\n",
      "pst         55\n",
      "maths      100\n",
      "dtype: int16\n"
     ]
    },
    {
     "data": {
      "text/plain": [
       "urdu       False\n",
       "science     True\n",
       "english     True\n",
       "pst         True\n",
       "maths       True\n",
       "dtype: bool"
      ]
     },
     "execution_count": 257,
     "metadata": {},
     "output_type": "execute_result"
    }
   ],
   "source": [
    "# relational operators\n",
    "print(marks_list)\n",
    "marks_list > 50"
   ]
  },
  {
   "cell_type": "markdown",
   "id": "46e6bfc7",
   "metadata": {},
   "source": [
    "### Boolean indexing"
   ]
  },
  {
   "cell_type": "code",
   "execution_count": 261,
   "id": "751a2e97",
   "metadata": {},
   "outputs": [
    {
     "name": "stdout",
     "output_type": "stream",
     "text": [
      "urdu        34\n",
      "science     89\n",
      "english     76\n",
      "pst         55\n",
      "maths      100\n",
      "dtype: int16\n"
     ]
    },
    {
     "data": {
      "text/plain": [
       "urdu        34\n",
       "english     76\n",
       "maths      100\n",
       "dtype: int16"
      ]
     },
     "execution_count": 261,
     "metadata": {},
     "output_type": "execute_result"
    }
   ],
   "source": [
    "print(marks_list)\n",
    "marks_list[marks_list%2==0]"
   ]
  },
  {
   "cell_type": "code",
   "execution_count": 269,
   "id": "72774d05",
   "metadata": {},
   "outputs": [
    {
     "name": "stdout",
     "output_type": "stream",
     "text": [
      "match_no\n",
      "1       1\n",
      "2      23\n",
      "3      13\n",
      "4      12\n",
      "5       1\n",
      "       ..\n",
      "211     0\n",
      "212    20\n",
      "213    73\n",
      "214    25\n",
      "215     7\n",
      "Name: runs, Length: 215, dtype: int64\n"
     ]
    },
    {
     "data": {
      "text/plain": [
       "match_no\n",
       "120    100\n",
       "164    100\n",
       "Name: runs, dtype: int64"
      ]
     },
     "execution_count": 269,
     "metadata": {},
     "output_type": "execute_result"
    }
   ],
   "source": [
    "print(runs)\n",
    "runs[runs==100]"
   ]
  },
  {
   "cell_type": "code",
   "execution_count": 282,
   "id": "27c30176",
   "metadata": {},
   "outputs": [
    {
     "data": {
      "text/plain": [
       "lead\n",
       "Akshay Kumar        48\n",
       "Amitabh Bachchan    45\n",
       "Ajay Devgn          38\n",
       "Salman Khan         31\n",
       "Sanjay Dutt         26\n",
       "Shah Rukh Khan      22\n",
       "Emraan Hashmi       21\n",
       "Name: count, dtype: int64"
      ]
     },
     "execution_count": 282,
     "metadata": {},
     "output_type": "execute_result"
    }
   ],
   "source": [
    "freq=bolly.value_counts()\n",
    "freq[freq>20]"
   ]
  },
  {
   "cell_type": "markdown",
   "id": "5cdfb500",
   "metadata": {},
   "source": [
    "### Plotting graphs"
   ]
  },
  {
   "cell_type": "code",
   "execution_count": 289,
   "id": "bbcab88e",
   "metadata": {},
   "outputs": [
    {
     "data": {
      "text/plain": [
       "<Axes: >"
      ]
     },
     "execution_count": 289,
     "metadata": {},
     "output_type": "execute_result"
    },
    {
     "data": {
      "image/png": "[encoded data removed]",
      "text/plain": [
       "<Figure size 640x480 with 1 Axes>"
      ]
     },
     "metadata": {},
     "output_type": "display_data"
    }
   ],
   "source": [
    "subs.plot()"
   ]
  },
  {
   "cell_type": "code",
   "execution_count": 297,
   "id": "4b195ae8",
   "metadata": {},
   "outputs": [
    {
     "data": {
      "text/plain": [
       "<Axes: xlabel='lead'>"
      ]
     },
     "execution_count": 297,
     "metadata": {},
     "output_type": "execute_result"
    },
    {
     "data": {
      "image/png": "[encoded data removed]",
      "text/plain": [
       "<Figure size 640x480 with 1 Axes>"
      ]
     },
     "metadata": {},
     "output_type": "display_data"
    }
   ],
   "source": [
    "bolly.value_counts().head(20).plot(kind='bar')"
   ]
  },
  {
   "cell_type": "markdown",
   "id": "a227e1a2",
   "metadata": {},
   "source": [
    "astpye()->changes datatype of data values<br>\n",
    "between(30,40)->trim values between the range only<br>\n",
    "clip(30,40)->values less than 30 changes to 30 and values greater than 40 changes to 40 and values between range remains same<br>\n",
    "drop_duplicates(keep='last')->remove duplicates<br>\n",
    "duplicated()->returns boolean series<br>\n",
    "isnull()->returns boolean series,true is it is nan or null<br>\n",
    "dropna()->drops missing/nan/null values<br>\n",
    "fillna(0)->replaces missing value with another<br>\n",
    "isin([2,3,4,5])->returns a boolean series,similar to vk.[(vk==2 | vk==3 | vk==4 | vk==5)]<br>\n",
    "apply()->custom logic on values of series,pass functions and return some value<br>\n",
    "copy()<br>"
   ]
  },
  {
   "cell_type": "code",
   "execution_count": null,
   "id": "136f74ad",
   "metadata": {},
   "outputs": [],
   "source": []
  }
 ],
 "metadata": {
  "kernelspec": {
   "display_name": "Python 3 (ipykernel)",
   "language": "python",
   "name": "python3"
  },
  "language_info": {
   "codemirror_mode": {
    "name": "ipython",
    "version": 3
   },
   "file_extension": ".py",
   "mimetype": "text/x-python",
   "name": "python",
   "nbconvert_exporter": "python",
   "pygments_lexer": "ipython3",
   "version": "3.11.5"
  }
 },
 "nbformat": 4,
 "nbformat_minor": 5
}
