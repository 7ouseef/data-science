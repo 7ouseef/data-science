{
 "cells": [
  {
   "cell_type": "code",
   "execution_count": 89,
   "metadata": {
    "id": "gZyo07nMM_Ds"
   },
   "outputs": [],
   "source": [
    "import pandas as pd"
   ]
  },
  {
   "cell_type": "markdown",
   "metadata": {
    "id": "GljWwvYWNIRf"
   },
   "source": [
    "###`Q-1:` You are given a Multi index DataFrame. You task is to swap level-0 index with level-0 column.\n",
    "* Change Branch -> ('cse', 'ece') as columns at level-0 and ('delhi'\t'mumbai') as level-0 Index\n",
    "* And Sort on row index level-0"
   ]
  },
  {
   "cell_type": "code",
   "execution_count": 2,
   "metadata": {
    "colab": {
     "base_uri": "https://localhost:8080/",
     "height": 332
    },
    "id": "lGGCC0xVNKNT",
    "outputId": "a9105459-9682-48aa-ab43-46a05206f367"
   },
   "outputs": [
    {
     "data": {
      "text/html": [
       "<div>\n",
       "<style scoped>\n",
       "    .dataframe tbody tr th:only-of-type {\n",
       "        vertical-align: middle;\n",
       "    }\n",
       "\n",
       "    .dataframe tbody tr th {\n",
       "        vertical-align: top;\n",
       "    }\n",
       "\n",
       "    .dataframe thead tr th {\n",
       "        text-align: left;\n",
       "    }\n",
       "</style>\n",
       "<table border=\"1\" class=\"dataframe\">\n",
       "  <thead>\n",
       "    <tr>\n",
       "      <th></th>\n",
       "      <th></th>\n",
       "      <th colspan=\"2\" halign=\"left\">delhi</th>\n",
       "      <th colspan=\"2\" halign=\"left\">mumbai</th>\n",
       "    </tr>\n",
       "    <tr>\n",
       "      <th></th>\n",
       "      <th></th>\n",
       "      <th>avg_package</th>\n",
       "      <th>students</th>\n",
       "      <th>avg_package</th>\n",
       "      <th>students</th>\n",
       "    </tr>\n",
       "  </thead>\n",
       "  <tbody>\n",
       "    <tr>\n",
       "      <th rowspan=\"4\" valign=\"top\">cse</th>\n",
       "      <th>2019</th>\n",
       "      <td>1</td>\n",
       "      <td>2</td>\n",
       "      <td>0</td>\n",
       "      <td>0</td>\n",
       "    </tr>\n",
       "    <tr>\n",
       "      <th>2020</th>\n",
       "      <td>3</td>\n",
       "      <td>4</td>\n",
       "      <td>0</td>\n",
       "      <td>0</td>\n",
       "    </tr>\n",
       "    <tr>\n",
       "      <th>2021</th>\n",
       "      <td>5</td>\n",
       "      <td>6</td>\n",
       "      <td>0</td>\n",
       "      <td>0</td>\n",
       "    </tr>\n",
       "    <tr>\n",
       "      <th>2022</th>\n",
       "      <td>7</td>\n",
       "      <td>8</td>\n",
       "      <td>0</td>\n",
       "      <td>0</td>\n",
       "    </tr>\n",
       "    <tr>\n",
       "      <th rowspan=\"4\" valign=\"top\">ece</th>\n",
       "      <th>2019</th>\n",
       "      <td>9</td>\n",
       "      <td>10</td>\n",
       "      <td>0</td>\n",
       "      <td>0</td>\n",
       "    </tr>\n",
       "    <tr>\n",
       "      <th>2020</th>\n",
       "      <td>11</td>\n",
       "      <td>12</td>\n",
       "      <td>0</td>\n",
       "      <td>0</td>\n",
       "    </tr>\n",
       "    <tr>\n",
       "      <th>2021</th>\n",
       "      <td>13</td>\n",
       "      <td>14</td>\n",
       "      <td>0</td>\n",
       "      <td>0</td>\n",
       "    </tr>\n",
       "    <tr>\n",
       "      <th>2022</th>\n",
       "      <td>15</td>\n",
       "      <td>16</td>\n",
       "      <td>0</td>\n",
       "      <td>0</td>\n",
       "    </tr>\n",
       "  </tbody>\n",
       "</table>\n",
       "</div>"
      ],
      "text/plain": [
       "               delhi               mumbai         \n",
       "         avg_package students avg_package students\n",
       "cse 2019           1        2           0        0\n",
       "    2020           3        4           0        0\n",
       "    2021           5        6           0        0\n",
       "    2022           7        8           0        0\n",
       "ece 2019           9       10           0        0\n",
       "    2020          11       12           0        0\n",
       "    2021          13       14           0        0\n",
       "    2022          15       16           0        0"
      ]
     },
     "execution_count": 2,
     "metadata": {},
     "output_type": "execute_result"
    }
   ],
   "source": [
    "# Given Code Snippets\n",
    "index_val = [('cse',2019),('cse',2020),('cse',2021),('cse',2022),('ece',2019),('ece',2020),('ece',2021),('ece',2022)]\n",
    "multiindex = pd.MultiIndex.from_tuples(index_val)\n",
    "df = pd.DataFrame(\n",
    "    [\n",
    "        [1,2,0,0],\n",
    "        [3,4,0,0],\n",
    "        [5,6,0,0],\n",
    "        [7,8,0,0],\n",
    "        [9,10,0,0],\n",
    "        [11,12,0,0],\n",
    "        [13,14,0,0],\n",
    "        [15,16,0,0],\n",
    "    ],\n",
    "    index = multiindex,\n",
    "    columns = pd.MultiIndex.from_product([['delhi','mumbai'],['avg_package','students']])\n",
    ")\n",
    "\n",
    "df"
   ]
  },
  {
   "cell_type": "code",
   "execution_count": 32,
   "metadata": {
    "id": "KFu4-dIFNNxa"
   },
   "outputs": [
    {
     "data": {
      "text/html": [
       "<div>\n",
       "<style scoped>\n",
       "    .dataframe tbody tr th:only-of-type {\n",
       "        vertical-align: middle;\n",
       "    }\n",
       "\n",
       "    .dataframe tbody tr th {\n",
       "        vertical-align: top;\n",
       "    }\n",
       "\n",
       "    .dataframe thead tr th {\n",
       "        text-align: left;\n",
       "    }\n",
       "</style>\n",
       "<table border=\"1\" class=\"dataframe\">\n",
       "  <thead>\n",
       "    <tr>\n",
       "      <th></th>\n",
       "      <th></th>\n",
       "      <th>cse</th>\n",
       "      <th>ece</th>\n",
       "      <th>cse</th>\n",
       "      <th>ece</th>\n",
       "    </tr>\n",
       "    <tr>\n",
       "      <th></th>\n",
       "      <th></th>\n",
       "      <th>avg_package</th>\n",
       "      <th>avg_package</th>\n",
       "      <th>students</th>\n",
       "      <th>students</th>\n",
       "    </tr>\n",
       "  </thead>\n",
       "  <tbody>\n",
       "    <tr>\n",
       "      <th rowspan=\"4\" valign=\"top\">delhi</th>\n",
       "      <th>2019</th>\n",
       "      <td>1</td>\n",
       "      <td>9</td>\n",
       "      <td>2</td>\n",
       "      <td>10</td>\n",
       "    </tr>\n",
       "    <tr>\n",
       "      <th>2020</th>\n",
       "      <td>3</td>\n",
       "      <td>11</td>\n",
       "      <td>4</td>\n",
       "      <td>12</td>\n",
       "    </tr>\n",
       "    <tr>\n",
       "      <th>2021</th>\n",
       "      <td>5</td>\n",
       "      <td>13</td>\n",
       "      <td>6</td>\n",
       "      <td>14</td>\n",
       "    </tr>\n",
       "    <tr>\n",
       "      <th>2022</th>\n",
       "      <td>7</td>\n",
       "      <td>15</td>\n",
       "      <td>8</td>\n",
       "      <td>16</td>\n",
       "    </tr>\n",
       "    <tr>\n",
       "      <th rowspan=\"4\" valign=\"top\">mumbai</th>\n",
       "      <th>2019</th>\n",
       "      <td>0</td>\n",
       "      <td>0</td>\n",
       "      <td>0</td>\n",
       "      <td>0</td>\n",
       "    </tr>\n",
       "    <tr>\n",
       "      <th>2020</th>\n",
       "      <td>0</td>\n",
       "      <td>0</td>\n",
       "      <td>0</td>\n",
       "      <td>0</td>\n",
       "    </tr>\n",
       "    <tr>\n",
       "      <th>2021</th>\n",
       "      <td>0</td>\n",
       "      <td>0</td>\n",
       "      <td>0</td>\n",
       "      <td>0</td>\n",
       "    </tr>\n",
       "    <tr>\n",
       "      <th>2022</th>\n",
       "      <td>0</td>\n",
       "      <td>0</td>\n",
       "      <td>0</td>\n",
       "      <td>0</td>\n",
       "    </tr>\n",
       "  </tbody>\n",
       "</table>\n",
       "</div>"
      ],
      "text/plain": [
       "                    cse         ece      cse      ece\n",
       "            avg_package avg_package students students\n",
       "delhi  2019           1           9        2       10\n",
       "       2020           3          11        4       12\n",
       "       2021           5          13        6       14\n",
       "       2022           7          15        8       16\n",
       "mumbai 2019           0           0        0        0\n",
       "       2020           0           0        0        0\n",
       "       2021           0           0        0        0\n",
       "       2022           0           0        0        0"
      ]
     },
     "execution_count": 32,
     "metadata": {},
     "output_type": "execute_result"
    }
   ],
   "source": [
    "# code here\n",
    "df.swaplevel(axis=1).stack().swaplevel(i=0,j=2).unstack().swaplevel(axis=1)"
   ]
  },
  {
   "cell_type": "markdown",
   "metadata": {
    "id": "hG2FVM5yNfky"
   },
   "source": [
    "###`Q-2:` Covid Cases Data Set Problem\n",
    " Make a DataFrame Using both Covid Dataset. With Country name as Level-0 and Provinance/State as Level-1 Index and date, No of cases and No of Deaths as Columns."
   ]
  },
  {
   "cell_type": "code",
   "execution_count": 92,
   "metadata": {
    "id": "OzTr2O_wNgNy"
   },
   "outputs": [],
   "source": [
    "confirm = pd.read_csv('https://docs.google.com/spreadsheets/d/e/2PACX-1vTmqT3kxd0i0RUFiEnwA1Hboiunv28MeNTatZsIEqlPPB7mHrl0ttJL7utZ23_1s5FW8ZjODmB8jHIi/pub?gid=2142019845&single=true&output=csv')\n",
    "\n",
    "deaths = pd.read_csv(\"https://docs.google.com/spreadsheets/d/e/2PACX-1vQn4nLCKIVZMw4e89YeRqgKaSAAwRFaZ6ILMW_FUejZ2tkv3Np1f9gD4QOl3ASHeLzWjOjfmLDKcCOF/pub?gid=212966958&single=true&output=csv\")"
   ]
  },
  {
   "cell_type": "code",
   "execution_count": 91,
   "metadata": {},
   "outputs": [],
   "source": [
    "pd.options.display.max_rows=50"
   ]
  },
  {
   "cell_type": "code",
   "execution_count": 104,
   "metadata": {},
   "outputs": [
    {
     "data": {
      "text/html": [
       "<div>\n",
       "<style scoped>\n",
       "    .dataframe tbody tr th:only-of-type {\n",
       "        vertical-align: middle;\n",
       "    }\n",
       "\n",
       "    .dataframe tbody tr th {\n",
       "        vertical-align: top;\n",
       "    }\n",
       "\n",
       "    .dataframe thead th {\n",
       "        text-align: right;\n",
       "    }\n",
       "</style>\n",
       "<table border=\"1\" class=\"dataframe\">\n",
       "  <thead>\n",
       "    <tr style=\"text-align: right;\">\n",
       "      <th></th>\n",
       "      <th></th>\n",
       "      <th>Date</th>\n",
       "      <th>Confirm</th>\n",
       "      <th>Deaths</th>\n",
       "    </tr>\n",
       "    <tr>\n",
       "      <th>Country/Region</th>\n",
       "      <th>Province/State</th>\n",
       "      <th></th>\n",
       "      <th></th>\n",
       "      <th></th>\n",
       "    </tr>\n",
       "  </thead>\n",
       "  <tbody>\n",
       "    <tr>\n",
       "      <th rowspan=\"5\" valign=\"top\">Australia</th>\n",
       "      <th>Australian Capital Territory</th>\n",
       "      <td>1/22/20</td>\n",
       "      <td>0</td>\n",
       "      <td>0</td>\n",
       "    </tr>\n",
       "    <tr>\n",
       "      <th>New South Wales</th>\n",
       "      <td>1/22/20</td>\n",
       "      <td>0</td>\n",
       "      <td>0</td>\n",
       "    </tr>\n",
       "    <tr>\n",
       "      <th>Northern Territory</th>\n",
       "      <td>1/22/20</td>\n",
       "      <td>0</td>\n",
       "      <td>0</td>\n",
       "    </tr>\n",
       "    <tr>\n",
       "      <th>Queensland</th>\n",
       "      <td>1/22/20</td>\n",
       "      <td>0</td>\n",
       "      <td>0</td>\n",
       "    </tr>\n",
       "    <tr>\n",
       "      <th>South Australia</th>\n",
       "      <td>1/22/20</td>\n",
       "      <td>0</td>\n",
       "      <td>0</td>\n",
       "    </tr>\n",
       "    <tr>\n",
       "      <th>...</th>\n",
       "      <th>...</th>\n",
       "      <td>...</td>\n",
       "      <td>...</td>\n",
       "      <td>...</td>\n",
       "    </tr>\n",
       "    <tr>\n",
       "      <th rowspan=\"5\" valign=\"top\">United Kingdom</th>\n",
       "      <th>Jersey</th>\n",
       "      <td>1/2/23</td>\n",
       "      <td>65130</td>\n",
       "      <td>146</td>\n",
       "    </tr>\n",
       "    <tr>\n",
       "      <th>Montserrat</th>\n",
       "      <td>1/2/23</td>\n",
       "      <td>1403</td>\n",
       "      <td>8</td>\n",
       "    </tr>\n",
       "    <tr>\n",
       "      <th>Pitcairn Islands</th>\n",
       "      <td>1/2/23</td>\n",
       "      <td>4</td>\n",
       "      <td>0</td>\n",
       "    </tr>\n",
       "    <tr>\n",
       "      <th>Saint Helena, Ascension and Tristan da Cunha</th>\n",
       "      <td>1/2/23</td>\n",
       "      <td>2166</td>\n",
       "      <td>0</td>\n",
       "    </tr>\n",
       "    <tr>\n",
       "      <th>Turks and Caicos Islands</th>\n",
       "      <td>1/2/23</td>\n",
       "      <td>6479</td>\n",
       "      <td>36</td>\n",
       "    </tr>\n",
       "  </tbody>\n",
       "</table>\n",
       "<p>95853 rows × 3 columns</p>\n",
       "</div>"
      ],
      "text/plain": [
       "                                                                Date  Confirm  \\\n",
       "Country/Region Province/State                                                   \n",
       "Australia      Australian Capital Territory                  1/22/20        0   \n",
       "               New South Wales                               1/22/20        0   \n",
       "               Northern Territory                            1/22/20        0   \n",
       "               Queensland                                    1/22/20        0   \n",
       "               South Australia                               1/22/20        0   \n",
       "...                                                              ...      ...   \n",
       "United Kingdom Jersey                                         1/2/23    65130   \n",
       "               Montserrat                                     1/2/23     1403   \n",
       "               Pitcairn Islands                               1/2/23        4   \n",
       "               Saint Helena, Ascension and Tristan da Cunha   1/2/23     2166   \n",
       "               Turks and Caicos Islands                       1/2/23     6479   \n",
       "\n",
       "                                                             Deaths  \n",
       "Country/Region Province/State                                        \n",
       "Australia      Australian Capital Territory                       0  \n",
       "               New South Wales                                    0  \n",
       "               Northern Territory                                 0  \n",
       "               Queensland                                         0  \n",
       "               South Australia                                    0  \n",
       "...                                                             ...  \n",
       "United Kingdom Jersey                                           146  \n",
       "               Montserrat                                         8  \n",
       "               Pitcairn Islands                                   0  \n",
       "               Saint Helena, Ascension and Tristan da Cunha       0  \n",
       "               Turks and Caicos Islands                          36  \n",
       "\n",
       "[95853 rows x 3 columns]"
      ]
     },
     "execution_count": 104,
     "metadata": {},
     "output_type": "execute_result"
    }
   ],
   "source": [
    "# df=pd.concat([confirm,deaths],keys=['confirm','death'])\n",
    "# df.reset_index().set_index(['level_0','Province/State','Country/Region'])\n",
    "# df.reset_index()\n",
    "df=confirm.drop(columns=['Lat','Long']).dropna().melt(id_vars=['Province/State','Country/Region'],var_name='Date',value_name='Confirm').merge( \n",
    "deaths.dropna().drop(columns=['Lat','Long']).melt(id_vars=['Province/State','Country/Region'],var_name='Date',value_name='Deaths')\n",
    ",on=['Province/State','Country/Region','Date']).set_index(['Country/Region','Province/State'])\n",
    "df"
   ]
  },
  {
   "cell_type": "markdown",
   "metadata": {
    "id": "YT7H3papNuNv"
   },
   "source": [
    "###`Q-3:` Show Country with Heighest death percent out of confirmed Cases."
   ]
  },
  {
   "cell_type": "code",
   "execution_count": 136,
   "metadata": {
    "id": "6mifl5RtNlTt"
   },
   "outputs": [
    {
     "data": {
      "text/plain": [
       "Country/Region\n",
       "China    0.001937\n",
       "Name: Deaths, dtype: float64"
      ]
     },
     "execution_count": 136,
     "metadata": {},
     "output_type": "execute_result"
    }
   ],
   "source": [
    "# code here\n",
    "df.reset_index().groupby('Country/Region').apply(lambda x: (x['Deaths']/x['Confirm'].sum())*100).sort_values().tail(1).droplevel(1)"
   ]
  },
  {
   "cell_type": "markdown",
   "metadata": {
    "id": "ujM8q7h3Nwhr"
   },
   "source": [
    "### `Q-4` : Make a dataframe for India from Covid Data with one extra column representing no of new cases.\n",
    "\n",
    "* Just for Assumption \"No of new cases\" will be equal to difference of \"no of cases\" with previous day.\n",
    "* First day new cases will be NaN or equal to no of cases\n",
    "\n",
    "Say on 12/30/22 No of cases is - 44679608\tand a day previous (12/29/22) no of cases is - 44679382.\n",
    "\n",
    "Then for 12/30/22 -> No of New Cases  = 44679608 - 44679382 =\n",
    "\n",
    "Note:- Try using shift Function"
   ]
  },
  {
   "cell_type": "markdown",
   "metadata": {
    "id": "mwD53QGmOGti"
   },
   "source": [
    "Try using the shift function\n",
    "\n",
    "```\n",
    "s = pd.Series([1,2,3,4,5,6])\n",
    "s #-> [1,2,3,4,5,6]\n",
    "s.shift(1) #-> [NaN, 1,2,3,4,5]\n",
    "s.shift(-1) #-> [2,3,4,5,6, NaN]\n",
    "```"
   ]
  },
  {
   "cell_type": "code",
   "execution_count": 188,
   "metadata": {
    "id": "WFsdHfFhODAM"
   },
   "outputs": [
    {
     "data": {
      "text/html": [
       "<div>\n",
       "<style scoped>\n",
       "    .dataframe tbody tr th:only-of-type {\n",
       "        vertical-align: middle;\n",
       "    }\n",
       "\n",
       "    .dataframe tbody tr th {\n",
       "        vertical-align: top;\n",
       "    }\n",
       "\n",
       "    .dataframe thead th {\n",
       "        text-align: right;\n",
       "    }\n",
       "</style>\n",
       "<table border=\"1\" class=\"dataframe\">\n",
       "  <thead>\n",
       "    <tr style=\"text-align: right;\">\n",
       "      <th></th>\n",
       "      <th>Country/Region</th>\n",
       "      <th>Date</th>\n",
       "      <th>Confirm</th>\n",
       "      <th>Deaths</th>\n",
       "      <th>New cases</th>\n",
       "    </tr>\n",
       "  </thead>\n",
       "  <tbody>\n",
       "    <tr>\n",
       "      <th>50</th>\n",
       "      <td>India</td>\n",
       "      <td>3/12/20</td>\n",
       "      <td>73</td>\n",
       "      <td>1</td>\n",
       "      <td>11.0</td>\n",
       "    </tr>\n",
       "    <tr>\n",
       "      <th>51</th>\n",
       "      <td>India</td>\n",
       "      <td>3/13/20</td>\n",
       "      <td>82</td>\n",
       "      <td>2</td>\n",
       "      <td>9.0</td>\n",
       "    </tr>\n",
       "    <tr>\n",
       "      <th>52</th>\n",
       "      <td>India</td>\n",
       "      <td>3/14/20</td>\n",
       "      <td>102</td>\n",
       "      <td>2</td>\n",
       "      <td>20.0</td>\n",
       "    </tr>\n",
       "    <tr>\n",
       "      <th>53</th>\n",
       "      <td>India</td>\n",
       "      <td>3/15/20</td>\n",
       "      <td>113</td>\n",
       "      <td>2</td>\n",
       "      <td>11.0</td>\n",
       "    </tr>\n",
       "    <tr>\n",
       "      <th>54</th>\n",
       "      <td>India</td>\n",
       "      <td>3/16/20</td>\n",
       "      <td>119</td>\n",
       "      <td>2</td>\n",
       "      <td>6.0</td>\n",
       "    </tr>\n",
       "    <tr>\n",
       "      <th>55</th>\n",
       "      <td>India</td>\n",
       "      <td>3/17/20</td>\n",
       "      <td>142</td>\n",
       "      <td>3</td>\n",
       "      <td>23.0</td>\n",
       "    </tr>\n",
       "  </tbody>\n",
       "</table>\n",
       "</div>"
      ],
      "text/plain": [
       "   Country/Region     Date  Confirm  Deaths  New cases\n",
       "50          India  3/12/20       73       1       11.0\n",
       "51          India  3/13/20       82       2        9.0\n",
       "52          India  3/14/20      102       2       20.0\n",
       "53          India  3/15/20      113       2       11.0\n",
       "54          India  3/16/20      119       2        6.0\n",
       "55          India  3/17/20      142       3       23.0"
      ]
     },
     "execution_count": 188,
     "metadata": {},
     "output_type": "execute_result"
    }
   ],
   "source": [
    "# code here\n",
    "a1=confirm[confirm['Country/Region']=='India'].drop(columns=['Province/State','Lat','Long']).melt(id_vars=['Country/Region'],var_name='Date',value_name='Confirm')\n",
    "a2=deaths[deaths['Country/Region']=='India'].drop(columns=['Province/State','Lat','Long']).melt(id_vars=['Country/Region'],var_name='Date',value_name='Deaths')\n",
    "df=a1.merge(a2,on=['Country/Region','Date'])\n",
    "df['New cases']=df['Confirm']-df['Confirm'].shift(1).fillna(0)\n",
    "df.loc[50:55]"
   ]
  },
  {
   "cell_type": "markdown",
   "metadata": {
    "id": "C7BEzT8fOQoO"
   },
   "source": [
    "### `Q-5:` Read the Dataset using the below given link and create a multi-index dataframe using the columns \"Country\" and \"City/Town\".\n",
    "\n",
    "This dataset is about the most polluted cities in the world. You can get details from [here](https://www.kaggle.com/datasets/rajkumarpandey02/worlds-most-air-polluted-countries-cities).\n",
    "\n",
    "**Dataset link:** https://tinyurl.com/2fe6vz4u Directly use this link to read.\n",
    "\n",
    "**Task:**\n",
    "1. Find out the name of the city of India which is most poluted based on PM10.\n",
    "2. Find out the name of the city of India which has minumum pollution level based on PM10.\n",
    "3. Do same operations (like 1 and 2) with the country China.\n",
    "4. Make a pie chart based on the column \"PM10\" of the country Poland.\n",
    "5. Make a bar chart based on the columns \"PM2.5\" and \"PM10\" of the countries Israel and Qatar.\n",
    "6. Convert this MultiIndex DataFrame to Series by retaining the informations."
   ]
  },
  {
   "cell_type": "code",
   "execution_count": 192,
   "metadata": {
    "id": "GGxjITQPOf3n"
   },
   "outputs": [
    {
     "data": {
      "text/html": [
       "<div>\n",
       "<style scoped>\n",
       "    .dataframe tbody tr th:only-of-type {\n",
       "        vertical-align: middle;\n",
       "    }\n",
       "\n",
       "    .dataframe tbody tr th {\n",
       "        vertical-align: top;\n",
       "    }\n",
       "\n",
       "    .dataframe thead th {\n",
       "        text-align: right;\n",
       "    }\n",
       "</style>\n",
       "<table border=\"1\" class=\"dataframe\">\n",
       "  <thead>\n",
       "    <tr style=\"text-align: right;\">\n",
       "      <th></th>\n",
       "      <th></th>\n",
       "      <th>Unnamed: 0</th>\n",
       "      <th>Position</th>\n",
       "      <th>Year</th>\n",
       "      <th>PM2.5</th>\n",
       "      <th>Temporal coverage</th>\n",
       "      <th>PM10</th>\n",
       "      <th>Temporal coverage.1</th>\n",
       "      <th>Database version (year)</th>\n",
       "    </tr>\n",
       "    <tr>\n",
       "      <th>Country</th>\n",
       "      <th>City/Town</th>\n",
       "      <th></th>\n",
       "      <th></th>\n",
       "      <th></th>\n",
       "      <th></th>\n",
       "      <th></th>\n",
       "      <th></th>\n",
       "      <th></th>\n",
       "      <th></th>\n",
       "    </tr>\n",
       "  </thead>\n",
       "  <tbody>\n",
       "    <tr>\n",
       "      <th>India</th>\n",
       "      <th>Kanpur</th>\n",
       "      <td>0</td>\n",
       "      <td>1</td>\n",
       "      <td>2016</td>\n",
       "      <td>173</td>\n",
       "      <td>&gt;75%</td>\n",
       "      <td>319</td>\n",
       "      <td>NaN</td>\n",
       "      <td>2018</td>\n",
       "    </tr>\n",
       "  </tbody>\n",
       "</table>\n",
       "</div>"
      ],
      "text/plain": [
       "                   Unnamed: 0  Position  Year  PM2.5 Temporal coverage  PM10  \\\n",
       "Country City/Town                                                              \n",
       "India   Kanpur              0         1  2016    173              >75%   319   \n",
       "\n",
       "                  Temporal coverage.1  Database version (year)  \n",
       "Country City/Town                                               \n",
       "India   Kanpur                    NaN                     2018  "
      ]
     },
     "execution_count": 192,
     "metadata": {},
     "output_type": "execute_result"
    }
   ],
   "source": [
    "# code here\n",
    "df=pd.read_csv('https://tinyurl.com/2fe6vz4u')\n",
    "df=df.set_index(['Country','City/Town'])\n",
    "df.head(1)"
   ]
  },
  {
   "cell_type": "code",
   "execution_count": 203,
   "metadata": {},
   "outputs": [
    {
     "data": {
      "text/plain": [
       "City/Town\n",
       "Kanpur    319\n",
       "Name: PM10, dtype: int64"
      ]
     },
     "execution_count": 203,
     "metadata": {},
     "output_type": "execute_result"
    }
   ],
   "source": [
    "# q1\n",
    "df.loc[('India')]['PM10'].sort_values().tail(1)"
   ]
  },
  {
   "cell_type": "code",
   "execution_count": 205,
   "metadata": {},
   "outputs": [
    {
     "data": {
      "text/plain": [
       "City/Town\n",
       "Aizawl    44\n",
       "Name: PM10, dtype: int64"
      ]
     },
     "execution_count": 205,
     "metadata": {},
     "output_type": "execute_result"
    }
   ],
   "source": [
    "# q2\n",
    "df.loc[('India')]['PM10'].sort_values().head(1)\n"
   ]
  },
  {
   "cell_type": "code",
   "execution_count": 210,
   "metadata": {},
   "outputs": [
    {
     "name": "stdout",
     "output_type": "stream",
     "text": [
      "City/Town\n",
      "Jinan    192\n",
      "Name: PM10, dtype: int64\n"
     ]
    },
    {
     "data": {
      "text/plain": [
       "City/Town\n",
       "Anshun    38\n",
       "Name: PM10, dtype: int64"
      ]
     },
     "execution_count": 210,
     "metadata": {},
     "output_type": "execute_result"
    }
   ],
   "source": [
    "# q3\n",
    "print(df.loc[('China')]['PM10'].sort_values().tail(1))\n",
    "df.loc[('China')]['PM10'].sort_values().head(1)"
   ]
  },
  {
   "cell_type": "code",
   "execution_count": 212,
   "metadata": {},
   "outputs": [
    {
     "data": {
      "text/plain": [
       "<Axes: ylabel='PM10'>"
      ]
     },
     "execution_count": 212,
     "metadata": {},
     "output_type": "execute_result"
    },
    {
     "data": {
      "image/png": "[encoded data removed]",
      "text/plain": [
       "<Figure size 640x480 with 1 Axes>"
      ]
     },
     "metadata": {},
     "output_type": "display_data"
    }
   ],
   "source": [
    "# q4\n",
    "df.loc['Poland']['PM10'].plot(kind='pie')"
   ]
  },
  {
   "cell_type": "code",
   "execution_count": 216,
   "metadata": {},
   "outputs": [
    {
     "data": {
      "text/plain": [
       "<Axes: xlabel='Country,City/Town'>"
      ]
     },
     "execution_count": 216,
     "metadata": {},
     "output_type": "execute_result"
    },
    {
     "data": {
      "image/png": "[encoded data removed]",
      "text/plain": [
       "<Figure size 640x480 with 1 Axes>"
      ]
     },
     "metadata": {},
     "output_type": "display_data"
    }
   ],
   "source": [
    "df.loc['Pakistan'][['PM10','PM2.5']].plot(kind='bar')"
   ]
  },
  {
   "cell_type": "code",
   "execution_count": 217,
   "metadata": {},
   "outputs": [
    {
     "data": {
      "text/plain": [
       "<Axes: xlabel='City/Town'>"
      ]
     },
     "execution_count": 217,
     "metadata": {},
     "output_type": "execute_result"
    },
    {
     "data": {
      "image/png": "[encoded data removed]",
      "text/plain": [
       "<Figure size 640x480 with 1 Axes>"
      ]
     },
     "metadata": {},
     "output_type": "display_data"
    }
   ],
   "source": [
    "df.loc['Qatar'][['PM10','PM2.5']].plot(kind='bar')"
   ]
  },
  {
   "cell_type": "code",
   "execution_count": 224,
   "metadata": {},
   "outputs": [
    {
     "data": {
      "text/plain": [
       "Country  City/Town                         \n",
       "India    Kanpur     Unnamed: 0                    0\n",
       "                    Position                      1\n",
       "                    Year                       2016\n",
       "                    PM2.5                       173\n",
       "                    Temporal coverage          >75%\n",
       "                                               ... \n",
       "Turkey   Sivas      PM2.5                        27\n",
       "                    Temporal coverage          >75%\n",
       "                    PM10                         56\n",
       "                    Temporal coverage.1        >75%\n",
       "                    Database version (year)    2018\n",
       "Length: 3138, dtype: object"
      ]
     },
     "execution_count": 224,
     "metadata": {},
     "output_type": "execute_result"
    }
   ],
   "source": [
    "df.stack()"
   ]
  },
  {
   "cell_type": "code",
   "execution_count": null,
   "metadata": {},
   "outputs": [],
   "source": []
  }
 ],
 "metadata": {
  "colab": {
   "provenance": []
  },
  "kernelspec": {
   "display_name": "Python 3 (ipykernel)",
   "language": "python",
   "name": "python3"
  },
  "language_info": {
   "codemirror_mode": {
    "name": "ipython",
    "version": 3
   },
   "file_extension": ".py",
   "mimetype": "text/x-python",
   "name": "python",
   "nbconvert_exporter": "python",
   "pygments_lexer": "ipython3",
   "version": "3.11.5"
  }
 },
 "nbformat": 4,
 "nbformat_minor": 1
}
