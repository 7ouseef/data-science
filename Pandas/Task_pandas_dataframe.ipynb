{
 "cells": [
  {
   "cell_type": "code",
   "execution_count": 2,
   "metadata": {},
   "outputs": [],
   "source": [
    "import numpy as np\n",
    "import pandas as pd"
   ]
  },
  {
   "cell_type": "code",
   "execution_count": null,
   "metadata": {
    "id": "u7ShJC6QbJOo"
   },
   "outputs": [],
   "source": [
    "\"https://raw.githubusercontent.com/justmarkham/DAT8/master/data/chipotle.tsv\""
   ]
  },
  {
   "cell_type": "markdown",
   "metadata": {
    "id": "sM-WXcZmbTCW"
   },
   "source": [
    "## Basic DataFrame\n",
    "\n",
    "Consider the following Python dictionary data and Python list labels:\n",
    "\n",
    "```\n",
    "data = {'birds': ['Cranes', 'Cranes', 'plovers', 'spoonbills', 'spoonbills', 'Cranes', 'plovers', 'Cranes', 'spoonbills', 'spoonbills', 'Cranes'],\n",
    "        'age': [3.5, 4, 1.5, np.nan, 6, 3, 5.5, np.nan, 8, 4, 3.5], 'visits': [2, 4, 3, 4, 3, 4, 2, 2, 3, 2, 2],\n",
    "        'priority': ['yes', 'yes', 'no', np.nan, 'no', 'no', 'no', 'yes', 'no', 'no','yes']}\n",
    "```\n",
    "```\n",
    "labels = ['a', 'b', 'c', 'd', 'e', 'f', 'g', 'h', 'i', 'j', 'k']\n",
    "```"
   ]
  },
  {
   "cell_type": "markdown",
   "metadata": {
    "id": "fbl_dILPbZ9e"
   },
   "source": [
    "###`Q-1:`\n",
    "i. Create a DataFrame birds from the above dictionary data which has the index labels.\n",
    "\n",
    "ii. Display basic information about the dataFrame.\n",
    "\n",
    "iii. Show Alternate rows of the dataframe."
   ]
  },
  {
   "cell_type": "code",
   "execution_count": 12,
   "metadata": {
    "id": "FsGlueHWbZCr"
   },
   "outputs": [
    {
     "data": {
      "text/html": [
       "<div>\n",
       "<style scoped>\n",
       "    .dataframe tbody tr th:only-of-type {\n",
       "        vertical-align: middle;\n",
       "    }\n",
       "\n",
       "    .dataframe tbody tr th {\n",
       "        vertical-align: top;\n",
       "    }\n",
       "\n",
       "    .dataframe thead th {\n",
       "        text-align: right;\n",
       "    }\n",
       "</style>\n",
       "<table border=\"1\" class=\"dataframe\">\n",
       "  <thead>\n",
       "    <tr style=\"text-align: right;\">\n",
       "      <th></th>\n",
       "      <th>birds</th>\n",
       "      <th>age</th>\n",
       "      <th>visits</th>\n",
       "      <th>priority</th>\n",
       "    </tr>\n",
       "    <tr>\n",
       "      <th>index</th>\n",
       "      <th></th>\n",
       "      <th></th>\n",
       "      <th></th>\n",
       "      <th></th>\n",
       "    </tr>\n",
       "  </thead>\n",
       "  <tbody>\n",
       "    <tr>\n",
       "      <th>a</th>\n",
       "      <td>Cranes</td>\n",
       "      <td>3.5</td>\n",
       "      <td>2</td>\n",
       "      <td>yes</td>\n",
       "    </tr>\n",
       "    <tr>\n",
       "      <th>b</th>\n",
       "      <td>Cranes</td>\n",
       "      <td>4.0</td>\n",
       "      <td>4</td>\n",
       "      <td>yes</td>\n",
       "    </tr>\n",
       "    <tr>\n",
       "      <th>c</th>\n",
       "      <td>plovers</td>\n",
       "      <td>1.5</td>\n",
       "      <td>3</td>\n",
       "      <td>no</td>\n",
       "    </tr>\n",
       "    <tr>\n",
       "      <th>d</th>\n",
       "      <td>spoonbills</td>\n",
       "      <td>NaN</td>\n",
       "      <td>4</td>\n",
       "      <td>NaN</td>\n",
       "    </tr>\n",
       "    <tr>\n",
       "      <th>e</th>\n",
       "      <td>spoonbills</td>\n",
       "      <td>6.0</td>\n",
       "      <td>3</td>\n",
       "      <td>no</td>\n",
       "    </tr>\n",
       "    <tr>\n",
       "      <th>f</th>\n",
       "      <td>Cranes</td>\n",
       "      <td>3.0</td>\n",
       "      <td>4</td>\n",
       "      <td>no</td>\n",
       "    </tr>\n",
       "    <tr>\n",
       "      <th>g</th>\n",
       "      <td>plovers</td>\n",
       "      <td>5.5</td>\n",
       "      <td>2</td>\n",
       "      <td>no</td>\n",
       "    </tr>\n",
       "    <tr>\n",
       "      <th>h</th>\n",
       "      <td>Cranes</td>\n",
       "      <td>NaN</td>\n",
       "      <td>2</td>\n",
       "      <td>yes</td>\n",
       "    </tr>\n",
       "    <tr>\n",
       "      <th>i</th>\n",
       "      <td>spoonbills</td>\n",
       "      <td>8.0</td>\n",
       "      <td>3</td>\n",
       "      <td>no</td>\n",
       "    </tr>\n",
       "    <tr>\n",
       "      <th>j</th>\n",
       "      <td>spoonbills</td>\n",
       "      <td>4.0</td>\n",
       "      <td>2</td>\n",
       "      <td>no</td>\n",
       "    </tr>\n",
       "    <tr>\n",
       "      <th>k</th>\n",
       "      <td>Cranes</td>\n",
       "      <td>3.5</td>\n",
       "      <td>2</td>\n",
       "      <td>yes</td>\n",
       "    </tr>\n",
       "  </tbody>\n",
       "</table>\n",
       "</div>"
      ],
      "text/plain": [
       "            birds  age  visits priority\n",
       "index                                  \n",
       "a          Cranes  3.5       2      yes\n",
       "b          Cranes  4.0       4      yes\n",
       "c         plovers  1.5       3       no\n",
       "d      spoonbills  NaN       4      NaN\n",
       "e      spoonbills  6.0       3       no\n",
       "f          Cranes  3.0       4       no\n",
       "g         plovers  5.5       2       no\n",
       "h          Cranes  NaN       2      yes\n",
       "i      spoonbills  8.0       3       no\n",
       "j      spoonbills  4.0       2       no\n",
       "k          Cranes  3.5       2      yes"
      ]
     },
     "execution_count": 12,
     "metadata": {},
     "output_type": "execute_result"
    }
   ],
   "source": [
    "# code here\n",
    "data = {'birds': ['Cranes', 'Cranes', 'plovers', 'spoonbills', 'spoonbills', 'Cranes', 'plovers', 'Cranes', 'spoonbills', 'spoonbills', 'Cranes'],\n",
    "        'age': [3.5, 4, 1.5, np.nan, 6, 3, 5.5, np.nan, 8, 4, 3.5], 'visits': [2, 4, 3, 4, 3, 4, 2, 2, 3, 2, 2],\n",
    "        'priority': ['yes', 'yes', 'no', np.nan, 'no', 'no', 'no', 'yes', 'no', 'no','yes']}\n",
    "labels = ['a', 'b', 'c', 'd', 'e', 'f', 'g', 'h', 'i', 'j', 'k']\n",
    "q1=pd.DataFrame(data)\n",
    "q1['index']=labels\n",
    "q1.set_index('index',inplace=True)\n",
    "q1"
   ]
  },
  {
   "cell_type": "code",
   "execution_count": 15,
   "metadata": {},
   "outputs": [
    {
     "name": "stdout",
     "output_type": "stream",
     "text": [
      "<class 'pandas.core.frame.DataFrame'>\n",
      "Index: 11 entries, a to k\n",
      "Data columns (total 4 columns):\n",
      " #   Column    Non-Null Count  Dtype  \n",
      "---  ------    --------------  -----  \n",
      " 0   birds     11 non-null     object \n",
      " 1   age       9 non-null      float64\n",
      " 2   visits    11 non-null     int64  \n",
      " 3   priority  10 non-null     object \n",
      "dtypes: float64(1), int64(1), object(2)\n",
      "memory usage: 440.0+ bytes\n"
     ]
    }
   ],
   "source": [
    "q1.info()"
   ]
  },
  {
   "cell_type": "code",
   "execution_count": 16,
   "metadata": {},
   "outputs": [
    {
     "data": {
      "text/html": [
       "<div>\n",
       "<style scoped>\n",
       "    .dataframe tbody tr th:only-of-type {\n",
       "        vertical-align: middle;\n",
       "    }\n",
       "\n",
       "    .dataframe tbody tr th {\n",
       "        vertical-align: top;\n",
       "    }\n",
       "\n",
       "    .dataframe thead th {\n",
       "        text-align: right;\n",
       "    }\n",
       "</style>\n",
       "<table border=\"1\" class=\"dataframe\">\n",
       "  <thead>\n",
       "    <tr style=\"text-align: right;\">\n",
       "      <th></th>\n",
       "      <th>birds</th>\n",
       "      <th>age</th>\n",
       "      <th>visits</th>\n",
       "      <th>priority</th>\n",
       "    </tr>\n",
       "    <tr>\n",
       "      <th>index</th>\n",
       "      <th></th>\n",
       "      <th></th>\n",
       "      <th></th>\n",
       "      <th></th>\n",
       "    </tr>\n",
       "  </thead>\n",
       "  <tbody>\n",
       "    <tr>\n",
       "      <th>a</th>\n",
       "      <td>Cranes</td>\n",
       "      <td>3.5</td>\n",
       "      <td>2</td>\n",
       "      <td>yes</td>\n",
       "    </tr>\n",
       "    <tr>\n",
       "      <th>c</th>\n",
       "      <td>plovers</td>\n",
       "      <td>1.5</td>\n",
       "      <td>3</td>\n",
       "      <td>no</td>\n",
       "    </tr>\n",
       "    <tr>\n",
       "      <th>e</th>\n",
       "      <td>spoonbills</td>\n",
       "      <td>6.0</td>\n",
       "      <td>3</td>\n",
       "      <td>no</td>\n",
       "    </tr>\n",
       "    <tr>\n",
       "      <th>g</th>\n",
       "      <td>plovers</td>\n",
       "      <td>5.5</td>\n",
       "      <td>2</td>\n",
       "      <td>no</td>\n",
       "    </tr>\n",
       "    <tr>\n",
       "      <th>i</th>\n",
       "      <td>spoonbills</td>\n",
       "      <td>8.0</td>\n",
       "      <td>3</td>\n",
       "      <td>no</td>\n",
       "    </tr>\n",
       "    <tr>\n",
       "      <th>k</th>\n",
       "      <td>Cranes</td>\n",
       "      <td>3.5</td>\n",
       "      <td>2</td>\n",
       "      <td>yes</td>\n",
       "    </tr>\n",
       "  </tbody>\n",
       "</table>\n",
       "</div>"
      ],
      "text/plain": [
       "            birds  age  visits priority\n",
       "index                                  \n",
       "a          Cranes  3.5       2      yes\n",
       "c         plovers  1.5       3       no\n",
       "e      spoonbills  6.0       3       no\n",
       "g         plovers  5.5       2       no\n",
       "i      spoonbills  8.0       3       no\n",
       "k          Cranes  3.5       2      yes"
      ]
     },
     "execution_count": 16,
     "metadata": {},
     "output_type": "execute_result"
    }
   ],
   "source": [
    "q1.iloc[::2]"
   ]
  },
  {
   "cell_type": "markdown",
   "metadata": {
    "id": "06X1G_sbbe2K"
   },
   "source": [
    "###`Q-2:`\n",
    "i. Show only rows [1st, 3rd, 7th] from columns ['bird', 'age']\n",
    "\n",
    "ii. Select rows where the number of visits is less than 4."
   ]
  },
  {
   "cell_type": "code",
   "execution_count": 23,
   "metadata": {
    "id": "5ceryOqrbhB6"
   },
   "outputs": [
    {
     "data": {
      "text/html": [
       "<div>\n",
       "<style scoped>\n",
       "    .dataframe tbody tr th:only-of-type {\n",
       "        vertical-align: middle;\n",
       "    }\n",
       "\n",
       "    .dataframe tbody tr th {\n",
       "        vertical-align: top;\n",
       "    }\n",
       "\n",
       "    .dataframe thead th {\n",
       "        text-align: right;\n",
       "    }\n",
       "</style>\n",
       "<table border=\"1\" class=\"dataframe\">\n",
       "  <thead>\n",
       "    <tr style=\"text-align: right;\">\n",
       "      <th></th>\n",
       "      <th>birds</th>\n",
       "      <th>age</th>\n",
       "    </tr>\n",
       "    <tr>\n",
       "      <th>index</th>\n",
       "      <th></th>\n",
       "      <th></th>\n",
       "    </tr>\n",
       "  </thead>\n",
       "  <tbody>\n",
       "    <tr>\n",
       "      <th>b</th>\n",
       "      <td>Cranes</td>\n",
       "      <td>4.0</td>\n",
       "    </tr>\n",
       "    <tr>\n",
       "      <th>d</th>\n",
       "      <td>spoonbills</td>\n",
       "      <td>NaN</td>\n",
       "    </tr>\n",
       "    <tr>\n",
       "      <th>h</th>\n",
       "      <td>Cranes</td>\n",
       "      <td>NaN</td>\n",
       "    </tr>\n",
       "  </tbody>\n",
       "</table>\n",
       "</div>"
      ],
      "text/plain": [
       "            birds  age\n",
       "index                 \n",
       "b          Cranes  4.0\n",
       "d      spoonbills  NaN\n",
       "h          Cranes  NaN"
      ]
     },
     "execution_count": 23,
     "metadata": {},
     "output_type": "execute_result"
    }
   ],
   "source": [
    "# code here\n",
    "q1.iloc[[1,3,7]][['birds','age']]"
   ]
  },
  {
   "cell_type": "code",
   "execution_count": 24,
   "metadata": {},
   "outputs": [
    {
     "data": {
      "text/html": [
       "<div>\n",
       "<style scoped>\n",
       "    .dataframe tbody tr th:only-of-type {\n",
       "        vertical-align: middle;\n",
       "    }\n",
       "\n",
       "    .dataframe tbody tr th {\n",
       "        vertical-align: top;\n",
       "    }\n",
       "\n",
       "    .dataframe thead th {\n",
       "        text-align: right;\n",
       "    }\n",
       "</style>\n",
       "<table border=\"1\" class=\"dataframe\">\n",
       "  <thead>\n",
       "    <tr style=\"text-align: right;\">\n",
       "      <th></th>\n",
       "      <th>birds</th>\n",
       "      <th>age</th>\n",
       "      <th>visits</th>\n",
       "      <th>priority</th>\n",
       "    </tr>\n",
       "    <tr>\n",
       "      <th>index</th>\n",
       "      <th></th>\n",
       "      <th></th>\n",
       "      <th></th>\n",
       "      <th></th>\n",
       "    </tr>\n",
       "  </thead>\n",
       "  <tbody>\n",
       "    <tr>\n",
       "      <th>a</th>\n",
       "      <td>Cranes</td>\n",
       "      <td>3.5</td>\n",
       "      <td>2</td>\n",
       "      <td>yes</td>\n",
       "    </tr>\n",
       "    <tr>\n",
       "      <th>c</th>\n",
       "      <td>plovers</td>\n",
       "      <td>1.5</td>\n",
       "      <td>3</td>\n",
       "      <td>no</td>\n",
       "    </tr>\n",
       "    <tr>\n",
       "      <th>e</th>\n",
       "      <td>spoonbills</td>\n",
       "      <td>6.0</td>\n",
       "      <td>3</td>\n",
       "      <td>no</td>\n",
       "    </tr>\n",
       "    <tr>\n",
       "      <th>g</th>\n",
       "      <td>plovers</td>\n",
       "      <td>5.5</td>\n",
       "      <td>2</td>\n",
       "      <td>no</td>\n",
       "    </tr>\n",
       "    <tr>\n",
       "      <th>h</th>\n",
       "      <td>Cranes</td>\n",
       "      <td>NaN</td>\n",
       "      <td>2</td>\n",
       "      <td>yes</td>\n",
       "    </tr>\n",
       "    <tr>\n",
       "      <th>i</th>\n",
       "      <td>spoonbills</td>\n",
       "      <td>8.0</td>\n",
       "      <td>3</td>\n",
       "      <td>no</td>\n",
       "    </tr>\n",
       "    <tr>\n",
       "      <th>j</th>\n",
       "      <td>spoonbills</td>\n",
       "      <td>4.0</td>\n",
       "      <td>2</td>\n",
       "      <td>no</td>\n",
       "    </tr>\n",
       "    <tr>\n",
       "      <th>k</th>\n",
       "      <td>Cranes</td>\n",
       "      <td>3.5</td>\n",
       "      <td>2</td>\n",
       "      <td>yes</td>\n",
       "    </tr>\n",
       "  </tbody>\n",
       "</table>\n",
       "</div>"
      ],
      "text/plain": [
       "            birds  age  visits priority\n",
       "index                                  \n",
       "a          Cranes  3.5       2      yes\n",
       "c         plovers  1.5       3       no\n",
       "e      spoonbills  6.0       3       no\n",
       "g         plovers  5.5       2       no\n",
       "h          Cranes  NaN       2      yes\n",
       "i      spoonbills  8.0       3       no\n",
       "j      spoonbills  4.0       2       no\n",
       "k          Cranes  3.5       2      yes"
      ]
     },
     "execution_count": 24,
     "metadata": {},
     "output_type": "execute_result"
    }
   ],
   "source": [
    "q1[q1['visits']<4]"
   ]
  },
  {
   "cell_type": "markdown",
   "metadata": {
    "id": "biVrhUo2biZm"
   },
   "source": [
    "###`Q-3:`\n",
    "i. Select all rows with nan values in age and visits column.\n",
    "\n",
    "ii. Fill nan with respective series mode value."
   ]
  },
  {
   "cell_type": "code",
   "execution_count": 26,
   "metadata": {
    "id": "Qe8KrN_UbkPW"
   },
   "outputs": [
    {
     "data": {
      "text/html": [
       "<div>\n",
       "<style scoped>\n",
       "    .dataframe tbody tr th:only-of-type {\n",
       "        vertical-align: middle;\n",
       "    }\n",
       "\n",
       "    .dataframe tbody tr th {\n",
       "        vertical-align: top;\n",
       "    }\n",
       "\n",
       "    .dataframe thead th {\n",
       "        text-align: right;\n",
       "    }\n",
       "</style>\n",
       "<table border=\"1\" class=\"dataframe\">\n",
       "  <thead>\n",
       "    <tr style=\"text-align: right;\">\n",
       "      <th></th>\n",
       "      <th>birds</th>\n",
       "      <th>age</th>\n",
       "      <th>visits</th>\n",
       "      <th>priority</th>\n",
       "    </tr>\n",
       "    <tr>\n",
       "      <th>index</th>\n",
       "      <th></th>\n",
       "      <th></th>\n",
       "      <th></th>\n",
       "      <th></th>\n",
       "    </tr>\n",
       "  </thead>\n",
       "  <tbody>\n",
       "    <tr>\n",
       "      <th>d</th>\n",
       "      <td>spoonbills</td>\n",
       "      <td>NaN</td>\n",
       "      <td>4</td>\n",
       "      <td>NaN</td>\n",
       "    </tr>\n",
       "    <tr>\n",
       "      <th>h</th>\n",
       "      <td>Cranes</td>\n",
       "      <td>NaN</td>\n",
       "      <td>2</td>\n",
       "      <td>yes</td>\n",
       "    </tr>\n",
       "  </tbody>\n",
       "</table>\n",
       "</div>"
      ],
      "text/plain": [
       "            birds  age  visits priority\n",
       "index                                  \n",
       "d      spoonbills  NaN       4      NaN\n",
       "h          Cranes  NaN       2      yes"
      ]
     },
     "execution_count": 26,
     "metadata": {},
     "output_type": "execute_result"
    }
   ],
   "source": [
    "# code here\n",
    "q1[ ( q1['age'].isna() |  q1['visits'].isna() ) ]"
   ]
  },
  {
   "cell_type": "code",
   "execution_count": 49,
   "metadata": {},
   "outputs": [],
   "source": [
    "q1['age']=q1['age'].fillna(q1['age'].dropna().mode()[0])"
   ]
  },
  {
   "cell_type": "code",
   "execution_count": 51,
   "metadata": {},
   "outputs": [],
   "source": [
    "q1['visits']=q1['visits'].fillna(q1['visits'].dropna().mode()[0])"
   ]
  },
  {
   "cell_type": "code",
   "execution_count": 52,
   "metadata": {},
   "outputs": [
    {
     "data": {
      "text/html": [
       "<div>\n",
       "<style scoped>\n",
       "    .dataframe tbody tr th:only-of-type {\n",
       "        vertical-align: middle;\n",
       "    }\n",
       "\n",
       "    .dataframe tbody tr th {\n",
       "        vertical-align: top;\n",
       "    }\n",
       "\n",
       "    .dataframe thead th {\n",
       "        text-align: right;\n",
       "    }\n",
       "</style>\n",
       "<table border=\"1\" class=\"dataframe\">\n",
       "  <thead>\n",
       "    <tr style=\"text-align: right;\">\n",
       "      <th></th>\n",
       "      <th>birds</th>\n",
       "      <th>age</th>\n",
       "      <th>visits</th>\n",
       "      <th>priority</th>\n",
       "    </tr>\n",
       "    <tr>\n",
       "      <th>index</th>\n",
       "      <th></th>\n",
       "      <th></th>\n",
       "      <th></th>\n",
       "      <th></th>\n",
       "    </tr>\n",
       "  </thead>\n",
       "  <tbody>\n",
       "    <tr>\n",
       "      <th>a</th>\n",
       "      <td>Cranes</td>\n",
       "      <td>3.5</td>\n",
       "      <td>2</td>\n",
       "      <td>yes</td>\n",
       "    </tr>\n",
       "    <tr>\n",
       "      <th>b</th>\n",
       "      <td>Cranes</td>\n",
       "      <td>4.0</td>\n",
       "      <td>4</td>\n",
       "      <td>yes</td>\n",
       "    </tr>\n",
       "    <tr>\n",
       "      <th>c</th>\n",
       "      <td>plovers</td>\n",
       "      <td>1.5</td>\n",
       "      <td>3</td>\n",
       "      <td>no</td>\n",
       "    </tr>\n",
       "    <tr>\n",
       "      <th>d</th>\n",
       "      <td>spoonbills</td>\n",
       "      <td>3.5</td>\n",
       "      <td>4</td>\n",
       "      <td>NaN</td>\n",
       "    </tr>\n",
       "    <tr>\n",
       "      <th>e</th>\n",
       "      <td>spoonbills</td>\n",
       "      <td>6.0</td>\n",
       "      <td>3</td>\n",
       "      <td>no</td>\n",
       "    </tr>\n",
       "    <tr>\n",
       "      <th>f</th>\n",
       "      <td>Cranes</td>\n",
       "      <td>3.0</td>\n",
       "      <td>4</td>\n",
       "      <td>no</td>\n",
       "    </tr>\n",
       "    <tr>\n",
       "      <th>g</th>\n",
       "      <td>plovers</td>\n",
       "      <td>5.5</td>\n",
       "      <td>2</td>\n",
       "      <td>no</td>\n",
       "    </tr>\n",
       "    <tr>\n",
       "      <th>h</th>\n",
       "      <td>Cranes</td>\n",
       "      <td>3.5</td>\n",
       "      <td>2</td>\n",
       "      <td>yes</td>\n",
       "    </tr>\n",
       "    <tr>\n",
       "      <th>i</th>\n",
       "      <td>spoonbills</td>\n",
       "      <td>8.0</td>\n",
       "      <td>3</td>\n",
       "      <td>no</td>\n",
       "    </tr>\n",
       "    <tr>\n",
       "      <th>j</th>\n",
       "      <td>spoonbills</td>\n",
       "      <td>4.0</td>\n",
       "      <td>2</td>\n",
       "      <td>no</td>\n",
       "    </tr>\n",
       "    <tr>\n",
       "      <th>k</th>\n",
       "      <td>Cranes</td>\n",
       "      <td>3.5</td>\n",
       "      <td>2</td>\n",
       "      <td>yes</td>\n",
       "    </tr>\n",
       "  </tbody>\n",
       "</table>\n",
       "</div>"
      ],
      "text/plain": [
       "            birds  age  visits priority\n",
       "index                                  \n",
       "a          Cranes  3.5       2      yes\n",
       "b          Cranes  4.0       4      yes\n",
       "c         plovers  1.5       3       no\n",
       "d      spoonbills  3.5       4      NaN\n",
       "e      spoonbills  6.0       3       no\n",
       "f          Cranes  3.0       4       no\n",
       "g         plovers  5.5       2       no\n",
       "h          Cranes  3.5       2      yes\n",
       "i      spoonbills  8.0       3       no\n",
       "j      spoonbills  4.0       2       no\n",
       "k          Cranes  3.5       2      yes"
      ]
     },
     "execution_count": 52,
     "metadata": {},
     "output_type": "execute_result"
    }
   ],
   "source": [
    "q1"
   ]
  },
  {
   "cell_type": "markdown",
   "metadata": {
    "id": "PcYTOjqUblrF"
   },
   "source": [
    "###`Q-4`\n",
    "i. Find the total number of visits of the bird Cranes\n",
    "\n",
    "ii. Find the number of each type of birds in dataframe.\n",
    "\n",
    "iii. Print no of duplicate rows\n",
    "\n",
    "iv. Drop Duplicates rows and make this changes permanent. Show dataframe after changes."
   ]
  },
  {
   "cell_type": "code",
   "execution_count": 53,
   "metadata": {
    "id": "O92x1vp0bngT"
   },
   "outputs": [
    {
     "data": {
      "text/plain": [
       "birds\n",
       "Cranes        5\n",
       "spoonbills    4\n",
       "plovers       2\n",
       "Name: count, dtype: int64"
      ]
     },
     "execution_count": 53,
     "metadata": {},
     "output_type": "execute_result"
    }
   ],
   "source": [
    "# code here\n",
    "q1['birds'].value_counts()"
   ]
  },
  {
   "cell_type": "code",
   "execution_count": 55,
   "metadata": {},
   "outputs": [
    {
     "data": {
      "text/plain": [
       "2"
      ]
     },
     "execution_count": 55,
     "metadata": {},
     "output_type": "execute_result"
    }
   ],
   "source": [
    "q1.duplicated().sum()"
   ]
  },
  {
   "cell_type": "markdown",
   "metadata": {
    "id": "sqOZLR5YbpD3"
   },
   "source": [
    "##Question on IPL Data\n",
    "\n",
    "IPL Data Link :  https://drive.google.com/file/d/1yKVUuexl6lIKuFQy7uIPgDgXhJ0L4SIg/view?usp=share_link\n",
    "\n",
    "https://www.kaggle.com/datasets/vora1011/ipl-2008-to-2021-all-match-dataset?select=IPL_Matches_2008_2022.csv\n",
    "\n",
    "Download ipl matches 2008-2022 file."
   ]
  },
  {
   "cell_type": "code",
   "execution_count": 80,
   "metadata": {},
   "outputs": [],
   "source": [
    "df=pd.read_csv('./datasets/ipl-matches.csv')"
   ]
  },
  {
   "cell_type": "markdown",
   "metadata": {
    "id": "MCNrLdLxbvuq"
   },
   "source": [
    "###`Q-5:` In IPL matches dataset some teams name has changed.\n",
    "You will have to consider them as same.\n",
    "```\n",
    "'Delhi Capitals' formerly as 'Delhi Daredevils'\n",
    "'Punjab Kings' formerly as 'Kings XI Punjab'\n",
    "'Rising Pune Supergiant' formerly as 'Rising Pune Supergiants'\n",
    "```\n",
    "You need to make changes accordingly. Consider current name for each teams.\n",
    "\n",
    "Be careful Gujrat Titans and Gujrat Lions are different teams."
   ]
  },
  {
   "cell_type": "code",
   "execution_count": 85,
   "metadata": {
    "id": "gf1uEhRlbunm"
   },
   "outputs": [],
   "source": [
    "# code here\n",
    "df[['Team1','Team2','TossWinner','WinningTeam']]=df[['Team1','Team2','TossWinner','WinningTeam']].replace('Delhi Capitals','Delhi Daredevils')\n",
    "df[['Team1','Team2','TossWinner','WinningTeam']]=df[['Team1','Team2','TossWinner','WinningTeam']].replace('Punjab Kings' ,'Kings XI Punjab')\n",
    "df[['Team1','Team2','TossWinner','WinningTeam']]=df[['Team1','Team2','TossWinner','WinningTeam']].replace('Rising Pune Supergiant' ,'Rising Pune Supergiants')\n"
   ]
  },
  {
   "cell_type": "code",
   "execution_count": 92,
   "metadata": {},
   "outputs": [
    {
     "data": {
      "text/plain": [
       "14     Kings XI Punjab\n",
       "22     Kings XI Punjab\n",
       "36     Kings XI Punjab\n",
       "42     Kings XI Punjab\n",
       "46     Kings XI Punjab\n",
       "            ...       \n",
       "916    Kings XI Punjab\n",
       "929    Kings XI Punjab\n",
       "936    Kings XI Punjab\n",
       "940    Kings XI Punjab\n",
       "948    Kings XI Punjab\n",
       "Name: Team1, Length: 110, dtype: object"
      ]
     },
     "execution_count": 92,
     "metadata": {},
     "output_type": "execute_result"
    }
   ],
   "source": [
    "df[df['Team1'].isin(['Kings XI Punjab'])]['Team1']"
   ]
  },
  {
   "cell_type": "markdown",
   "metadata": {
    "id": "vL5TaqJxbzUd"
   },
   "source": [
    "###`Q-6` Write a code which can display the bar chart of top 5 teams who have played maximum number of matches in the IPL.\n",
    ">  Hint: Be careful the data is divided in 2 different cols(Team 1 and Team 2)\n"
   ]
  },
  {
   "cell_type": "code",
   "execution_count": 96,
   "metadata": {
    "id": "wqUs7AFbb1x_"
   },
   "outputs": [
    {
     "data": {
      "text/plain": [
       "Team1\n",
       "Chennai Super Kings            111\n",
       "Deccan Chargers                 39\n",
       "Delhi Daredevils               114\n",
       "Gujarat Lions                   16\n",
       "Gujarat Titans                   7\n",
       "Kings XI Punjab                110\n",
       "Kochi Tuskers Kerala             7\n",
       "Kolkata Knight Riders          105\n",
       "Lucknow Super Giants             8\n",
       "Mumbai Indians                 112\n",
       "Pune Warriors                   23\n",
       "Rajasthan Royals                89\n",
       "Rising Pune Supergiants         14\n",
       "Royal Challengers Bangalore    126\n",
       "Sunrisers Hyderabad             69\n",
       "Name: count, dtype: int64"
      ]
     },
     "execution_count": 96,
     "metadata": {},
     "output_type": "execute_result"
    }
   ],
   "source": [
    "# code here\n",
    "df['Team1'].value_counts().sort_index()"
   ]
  },
  {
   "cell_type": "code",
   "execution_count": 97,
   "metadata": {},
   "outputs": [
    {
     "data": {
      "text/plain": [
       "Team2\n",
       "Chennai Super Kings             97\n",
       "Deccan Chargers                 36\n",
       "Delhi Daredevils               110\n",
       "Gujarat Lions                   14\n",
       "Gujarat Titans                   9\n",
       "Kings XI Punjab                108\n",
       "Kochi Tuskers Kerala             7\n",
       "Kolkata Knight Riders          118\n",
       "Lucknow Super Giants             7\n",
       "Mumbai Indians                 119\n",
       "Pune Warriors                   23\n",
       "Rajasthan Royals               103\n",
       "Rising Pune Supergiants         16\n",
       "Royal Challengers Bangalore    100\n",
       "Sunrisers Hyderabad             83\n",
       "Name: count, dtype: int64"
      ]
     },
     "execution_count": 97,
     "metadata": {},
     "output_type": "execute_result"
    }
   ],
   "source": [
    "df['Team2'].value_counts().sort_index()"
   ]
  },
  {
   "cell_type": "code",
   "execution_count": 112,
   "metadata": {},
   "outputs": [
    {
     "data": {
      "text/plain": [
       "<Axes: xlabel='Team1'>"
      ]
     },
     "execution_count": 112,
     "metadata": {},
     "output_type": "execute_result"
    },
    {
     "data": {
      "image/png": "[encoded data removed]",
      "text/plain": [
       "<Figure size 640x480 with 1 Axes>"
      ]
     },
     "metadata": {},
     "output_type": "display_data"
    }
   ],
   "source": [
    "top=(df['Team1'].value_counts().sort_index() + df['Team2'].value_counts().sort_index()).sort_values(ascending=False)\n",
    "(top.head(5)).plot(kind='bar')"
   ]
  },
  {
   "cell_type": "markdown",
   "metadata": {
    "id": "VORfLMaVb3E2"
   },
   "source": [
    "###`Q-7:` Player who got Most no. of player of the match award playing against Mumbai Indians.\n",
    "> Just for this question assume player of the match award is given to players from winning team. Although this is true in most of the cases.\n"
   ]
  },
  {
   "cell_type": "code",
   "execution_count": 139,
   "metadata": {
    "id": "9e5ZROJgb5ie"
   },
   "outputs": [
    {
     "data": {
      "text/plain": [
       "Player_of_Match\n",
       "RG Sharma    16\n",
       "Name: count, dtype: int64"
      ]
     },
     "execution_count": 139,
     "metadata": {},
     "output_type": "execute_result"
    }
   ],
   "source": [
    "# code here\n",
    "df[ ( (df['Team1']=='Mumbai Indians') & (~df['Team1Players'].isin(df['Player_of_Match'])) ) | ( (df['Team2']=='Mumbai Indians') & (~df['Team2Players'].isin(df['Player_of_Match'])) ) ]['Player_of_Match'].value_counts().head(1)"
   ]
  },
  {
   "cell_type": "markdown",
   "metadata": {
    "id": "cFLzm0egb7AT"
   },
   "source": [
    "###`Q-8:` Team1 vs Team2 Dashbord\n",
    "Create a function which will take two string(name of two teams) as input. Show win Loss record between them and player getting most player of the match award in matches between these two teams.\n",
    "```\n",
    "team1_vs_team2('Kolkata Knight Riders','Chennai Super Kings')\n",
    "```"
   ]
  },
  {
   "cell_type": "code",
   "execution_count": 171,
   "metadata": {
    "id": "2szkRN5Ab9Py"
   },
   "outputs": [
    {
     "data": {
      "text/plain": [
       "array([<Axes: ylabel='win'>, <Axes: ylabel='lose'>], dtype=object)"
      ]
     },
     "execution_count": 171,
     "metadata": {},
     "output_type": "execute_result"
    },
    {
     "data": {
      "image/png": "[encoded data removed]",
      "text/plain": [
       "<Figure size 640x480 with 2 Axes>"
      ]
     },
     "metadata": {},
     "output_type": "display_data"
    }
   ],
   "source": [
    "# code here\n",
    "def fun(t1,t2):\n",
    "    w1=df[df['WinningTeam']==t1].shape[0]\n",
    "    w2=df[df['WinningTeam']==t2].shape[0]\n",
    "    l1=df[ ((df['Team1']==t1) | (df['Team2']==t1)) & ~(df['WinningTeam']==t1) ].shape[0]\n",
    "    l2=df[ ((df['Team1']==t2) | (df['Team2']==t2)) & ~(df['WinningTeam']==t2) ].shape[0]\n",
    "    return pd.DataFrame({ 'win':[w1,w2],'lose':[l1,l2] },index=['Team1','Team2']).plot(kind='pie',subplots=True)\n",
    "fun('Kolkata Knight Riders','Chennai Super Kings')"
   ]
  },
  {
   "cell_type": "markdown",
   "metadata": {
    "id": "sb0c3Gc1b-bd"
   },
   "source": [
    "### `Q-9:` Find out the top 7 cities where the matches of Kolkata Knight Riders are played frequently and plot the result as bar chart.\n",
    "\n",
    "*`.plot(kind = \"bar\")` can help you to plot the bar chart. Also you can learn more about this method from [here](https://pandas.pydata.org/docs/reference/api/pandas.DataFrame.plot.html)*\n",
    "\n"
   ]
  },
  {
   "cell_type": "code",
   "execution_count": 177,
   "metadata": {
    "id": "FH-Pq14ncAZy"
   },
   "outputs": [
    {
     "data": {
      "text/plain": [
       "<Axes: xlabel='City'>"
      ]
     },
     "execution_count": 177,
     "metadata": {},
     "output_type": "execute_result"
    },
    {
     "data": {
      "image/png": "[encoded data removed]",
      "text/plain": [
       "<Figure size 640x480 with 1 Axes>"
      ]
     },
     "metadata": {},
     "output_type": "display_data"
    }
   ],
   "source": [
    "# code here\n",
    "df[ (df['Team1']=='Kolkata Knight Riders') | (df['Team2']=='Kolkata Knight Riders') ]['City'].value_counts().head(7).plot(kind='bar')"
   ]
  },
  {
   "cell_type": "markdown",
   "metadata": {
    "id": "NPiPNoJUcBmk"
   },
   "source": [
    "### `Q-10:` Find out the average margin for the team Mumbai Indians for only the session 2011."
   ]
  },
  {
   "cell_type": "code",
   "execution_count": 222,
   "metadata": {
    "id": "WPbS12ThcEAj"
   },
   "outputs": [
    {
     "data": {
      "text/plain": [
       "19.25"
      ]
     },
     "execution_count": 222,
     "metadata": {},
     "output_type": "execute_result"
    }
   ],
   "source": [
    "# code here\n",
    "q10=df[ ((df['Team1']=='Mumbai Indians') | (df['Team2']=='Mumbai Indians')) & ( df['Season'].str.split('/').apply(lambda x:x[0]).isin(['2011']) ) ]\n",
    "q10['Margin'].mean()"
   ]
  },
  {
   "cell_type": "code",
   "execution_count": null,
   "metadata": {},
   "outputs": [],
   "source": []
  }
 ],
 "metadata": {
  "colab": {
   "provenance": []
  },
  "kernelspec": {
   "display_name": "Python 3 (ipykernel)",
   "language": "python",
   "name": "python3"
  },
  "language_info": {
   "codemirror_mode": {
    "name": "ipython",
    "version": 3
   },
   "file_extension": ".py",
   "mimetype": "text/x-python",
   "name": "python",
   "nbconvert_exporter": "python",
   "pygments_lexer": "ipython3",
   "version": "3.11.5"
  }
 },
 "nbformat": 4,
 "nbformat_minor": 1
}
