{
 "cells": [
  {
   "cell_type": "code",
   "execution_count": 1,
   "metadata": {},
   "outputs": [],
   "source": [
    "import numpy as np"
   ]
  },
  {
   "cell_type": "markdown",
   "metadata": {
    "id": "J88qfqQEk_sT"
   },
   "source": [
    "###`Q-1:` Create a random 3x4 matrix with value between 0-100. And perform below tasks\n",
    "\n",
    "    i. Sort this matrix. np.sort()\n",
    "    ii. Sort this matrix based on values in 2nd column.\n",
    "    iii. Sort this matrix based on max value in each row.\n",
    "    iv. Sort based on elements value.\n"
   ]
  },
  {
   "cell_type": "markdown",
   "metadata": {
    "id": "xpOwOdhqlE9R"
   },
   "source": [
    "See examples:\n",
    "```\n",
    "arr =\n",
    "    [[92 90 74]\n",
    "    [ 6 63 93]\n",
    "    [15 93 96]\n",
    "    [70 60 48]]\n",
    "```\n",
    "```\n",
    "i. np.sort\n",
    "[[74 90 92]\n",
    " [ 6 63 93]\n",
    " [15 93 96]\n",
    " [48 60 70]]\n",
    "\n",
    "ii. based on 2nd column\n",
    "[[70 60 48]\n",
    " [ 6 63 93]\n",
    " [92 90 74]\n",
    " [15 93 96]]\n",
    "\n",
    "iii. based on row max- ascending\n",
    "[[15 93 96]\n",
    " [ 6 63 93]\n",
    " [92 90 74]\n",
    " [70 60 48]]\n",
    "\n",
    "iv. based on elements value\n",
    "[[ 6 15 48]\n",
    " [60 63 70]\n",
    " [74 90 92]\n",
    " [93 93 96]]\n",
    "\n",
    "```"
   ]
  },
  {
   "cell_type": "code",
   "execution_count": 69,
   "metadata": {
    "id": "Auy-guUwlALv"
   },
   "outputs": [
    {
     "data": {
      "text/plain": [
       "array([[33, 92, 97],\n",
       "       [75, 36,  6],\n",
       "       [89, 34, 19],\n",
       "       [53, 64, 69]])"
      ]
     },
     "execution_count": 69,
     "metadata": {},
     "output_type": "execute_result"
    }
   ],
   "source": [
    "# code here\n",
    "q1=np.random.randint(0,100,12).reshape(4,3)\n",
    "q1"
   ]
  },
  {
   "cell_type": "code",
   "execution_count": 70,
   "metadata": {},
   "outputs": [
    {
     "data": {
      "text/plain": [
       "array([[33, 34,  6],\n",
       "       [53, 36, 19],\n",
       "       [75, 64, 69],\n",
       "       [89, 92, 97]])"
      ]
     },
     "execution_count": 70,
     "metadata": {},
     "output_type": "execute_result"
    }
   ],
   "source": [
    "np.sort(q1,axis=0)"
   ]
  },
  {
   "cell_type": "code",
   "execution_count": 71,
   "metadata": {},
   "outputs": [
    {
     "data": {
      "text/plain": [
       "array([[33, 34, 97],\n",
       "       [75, 36,  6],\n",
       "       [89, 64, 19],\n",
       "       [53, 92, 69]])"
      ]
     },
     "execution_count": 71,
     "metadata": {},
     "output_type": "execute_result"
    }
   ],
   "source": [
    "q1a=np.copy(q1)\n",
    "q1a[:,1]=np.sort(q1[:,1])\n",
    "q1a"
   ]
  },
  {
   "cell_type": "code",
   "execution_count": 88,
   "metadata": {},
   "outputs": [
    {
     "data": {
      "text/plain": [
       "array([[53, 64, 69],\n",
       "       [75, 36,  6],\n",
       "       [89, 34, 19],\n",
       "       [33, 92, 97]])"
      ]
     },
     "execution_count": 88,
     "metadata": {},
     "output_type": "execute_result"
    }
   ],
   "source": [
    "q1b=np.copy(q1)\n",
    "ind=np.argsort(np.max(q1b,axis=1))\n",
    "q1b[ind]"
   ]
  },
  {
   "cell_type": "code",
   "execution_count": 97,
   "metadata": {},
   "outputs": [
    {
     "data": {
      "text/plain": [
       "array([[ 6, 19, 33],\n",
       "       [34, 36, 53],\n",
       "       [64, 69, 75],\n",
       "       [89, 92, 97]])"
      ]
     },
     "execution_count": 97,
     "metadata": {},
     "output_type": "execute_result"
    }
   ],
   "source": [
    "np.sort(np.ravel(q1)).reshape(q1.shape[0],q1.shape[1])"
   ]
  },
  {
   "cell_type": "markdown",
   "metadata": {
    "id": "Jx_I3gx9lBay"
   },
   "source": [
    "###`Q-2:` There is an array of marks of 5 students in 4 subjects. Further you are asked to perform below task.\n",
    "    i. Add marks every student of an extra subject in the same array.\n",
    "    ii. Add two new students marks in respective 5 subjects.(one subject added in above task)\n",
    "    iii. Add extra column with sum of all subjects(5-subjects) marks\n",
    "    iv. Sort the array(non-ascending order) on total marks column--one added in above task. Show top 2 rows.\n",
    "\n",
    "Note: Change dimension of arrays during concatenation or appending if required."
   ]
  },
  {
   "cell_type": "markdown",
   "metadata": {
    "id": "lXF-CE6ylNIw"
   },
   "source": [
    "Given Array-\n",
    "```\n",
    "marks = [[13, 10,  9, 33],\n",
    "       [63, 46, 90, 42],\n",
    "       [39, 76, 13, 29],\n",
    "       [82,  9, 29, 78],\n",
    "       [67, 61, 59, 36]]\n",
    "\n",
    "extra_subject = [41, 87, 72, 36, 92]\n",
    "#Two extra students record-\n",
    "rec1 = [77, 83, 98, 95, 89]\n",
    "rec2 = [92, 71, 52, 61, 53]\n",
    "```"
   ]
  },
  {
   "cell_type": "code",
   "execution_count": 111,
   "metadata": {
    "id": "7YKsWO2olMkq"
   },
   "outputs": [
    {
     "data": {
      "text/plain": [
       "array([[13, 10,  9, 33, 41],\n",
       "       [63, 46, 90, 42, 87],\n",
       "       [39, 76, 13, 29, 72],\n",
       "       [82,  9, 29, 78, 36],\n",
       "       [67, 61, 59, 36, 92]])"
      ]
     },
     "execution_count": 111,
     "metadata": {},
     "output_type": "execute_result"
    }
   ],
   "source": [
    "# code here\n",
    "marks = [[13, 10,  9, 33],\n",
    "       [63, 46, 90, 42],\n",
    "       [39, 76, 13, 29],\n",
    "       [82,  9, 29, 78],\n",
    "       [67, 61, 59, 36]]\n",
    "extra_subject = [41, 87, 72, 36, 92]\n",
    "#Two extra students record-\n",
    "rec1 = [77, 83, 98, 95, 89]\n",
    "rec2 = [92, 71, 52, 61, 53]\n",
    "marks=np.array(marks)\n",
    "extra_subject=np.array(extra_subject)\n",
    "rec1=np.array(rec1)\n",
    "rec2=np.array(rec2)\n",
    "new_marks=np.append(marks,np.expand_dims(extra_subject,axis=1),axis=1)\n",
    "new_marks"
   ]
  },
  {
   "cell_type": "code",
   "execution_count": 123,
   "metadata": {},
   "outputs": [
    {
     "data": {
      "text/plain": [
       "array([[13, 10,  9, 33, 41],\n",
       "       [63, 46, 90, 42, 87],\n",
       "       [39, 76, 13, 29, 72],\n",
       "       [82,  9, 29, 78, 36],\n",
       "       [67, 61, 59, 36, 92],\n",
       "       [77, 83, 98, 95, 89],\n",
       "       [92, 71, 52, 61, 53]])"
      ]
     },
     "execution_count": 123,
     "metadata": {},
     "output_type": "execute_result"
    }
   ],
   "source": [
    "new_marks=np.append(np.append(new_marks,np.expand_dims(rec1,axis=0),axis=0) , np.expand_dims(rec2,axis=0) , axis=0)\n",
    "new_marks"
   ]
  },
  {
   "cell_type": "code",
   "execution_count": 127,
   "metadata": {},
   "outputs": [
    {
     "data": {
      "text/plain": [
       "array([[ 13,  10,   9,  33,  41],\n",
       "       [ 63,  46,  90,  42,  87],\n",
       "       [ 39,  76,  13,  29,  72],\n",
       "       [ 82,   9,  29,  78,  36],\n",
       "       [ 67,  61,  59,  36,  92],\n",
       "       [ 77,  83,  98,  95,  89],\n",
       "       [ 92,  71,  52,  61,  53],\n",
       "       [433, 356, 350, 374, 470]])"
      ]
     },
     "execution_count": 127,
     "metadata": {},
     "output_type": "execute_result"
    }
   ],
   "source": [
    "new_marks=np.append(new_marks,np.expand_dims(new_marks.sum(axis=0),axis=0),axis=0)\n",
    "new_marks"
   ]
  },
  {
   "cell_type": "code",
   "execution_count": 130,
   "metadata": {},
   "outputs": [
    {
     "data": {
      "text/plain": [
       "array([[ 13,  10,   9,  33,  41],\n",
       "       [ 63,  46,  90,  42,  87],\n",
       "       [ 39,  76,  13,  29,  72],\n",
       "       [ 82,   9,  29,  78,  36],\n",
       "       [ 67,  61,  59,  36,  92],\n",
       "       [ 77,  83,  98,  95,  89],\n",
       "       [ 92,  71,  52,  61,  53],\n",
       "       [350, 356, 374, 433, 470]])"
      ]
     },
     "execution_count": 130,
     "metadata": {},
     "output_type": "execute_result"
    }
   ],
   "source": [
    "new_marks[-1:]=np.sort(new_marks[-1,])\n",
    "new_marks"
   ]
  },
  {
   "cell_type": "code",
   "execution_count": 131,
   "metadata": {},
   "outputs": [
    {
     "data": {
      "text/plain": [
       "array([[13, 10,  9, 33, 41],\n",
       "       [63, 46, 90, 42, 87]])"
      ]
     },
     "execution_count": 131,
     "metadata": {},
     "output_type": "execute_result"
    }
   ],
   "source": [
    "new_marks[0:2,]"
   ]
  },
  {
   "cell_type": "markdown",
   "metadata": {
    "id": "VmOyK_8klRqR"
   },
   "source": [
    "###`Q-3:` Find unique arrays from a 2D array column wise and row wise.\n",
    "```\n",
    "arr = np.array([[1,2,3,3,1,1],\n",
    "                [0,9,1,2,8,8],\n",
    "                [1,2,3,8,8,8],\n",
    "                [1,2,3,3,1,1]])\n",
    "```\n",
    "Expected Result-\n",
    "```\n",
    "Row Wise\n",
    "[[0 9 1 2 8 8]\n",
    " [1 2 3 3 1 1]\n",
    " [1 2 3 8 8 8]]\n",
    "\n",
    "Col Wise\n",
    "[[1 1 2 3 3]\n",
    " [0 8 9 1 2]\n",
    " [1 8 2 3 8]\n",
    " [1 1 2 3 3]]\n",
    "```"
   ]
  },
  {
   "cell_type": "code",
   "execution_count": 134,
   "metadata": {
    "id": "LJl10VQrlU5q"
   },
   "outputs": [
    {
     "data": {
      "text/plain": [
       "array([[0, 9, 1, 2, 8, 8],\n",
       "       [1, 2, 3, 3, 1, 1],\n",
       "       [1, 2, 3, 8, 8, 8]])"
      ]
     },
     "execution_count": 134,
     "metadata": {},
     "output_type": "execute_result"
    }
   ],
   "source": [
    "# code here\n",
    "q4 = np.array([[1,2,3,3,1,1],\n",
    "                [0,9,1,2,8,8],\n",
    "                [1,2,3,8,8,8],\n",
    "                [1,2,3,3,1,1]])\n",
    "np.unique(q4,axis=0)"
   ]
  },
  {
   "cell_type": "code",
   "execution_count": 135,
   "metadata": {},
   "outputs": [
    {
     "data": {
      "text/plain": [
       "array([[1, 1, 2, 3, 3],\n",
       "       [0, 8, 9, 1, 2],\n",
       "       [1, 8, 2, 3, 8],\n",
       "       [1, 1, 2, 3, 3]])"
      ]
     },
     "execution_count": 135,
     "metadata": {},
     "output_type": "execute_result"
    }
   ],
   "source": [
    "np.unique(q4,axis=1)"
   ]
  },
  {
   "cell_type": "markdown",
   "metadata": {
    "id": "RaXwVkywlWY2"
   },
   "source": [
    "###`Q-4:` Flip given 2-D array along both axes at the same time."
   ]
  },
  {
   "cell_type": "code",
   "execution_count": 138,
   "metadata": {
    "id": "mN7-4G8Kleeq"
   },
   "outputs": [
    {
     "data": {
      "text/plain": [
       "array([[1, 1, 3, 3, 2, 1],\n",
       "       [8, 8, 2, 1, 9, 0],\n",
       "       [8, 8, 8, 3, 2, 1],\n",
       "       [1, 1, 3, 3, 2, 1]])"
      ]
     },
     "execution_count": 138,
     "metadata": {},
     "output_type": "execute_result"
    }
   ],
   "source": [
    "# code here\n",
    "np.flip(q4,axis=0)\n",
    "np.flip(q4,axis=1)"
   ]
  },
  {
   "cell_type": "markdown",
   "metadata": {
    "id": "X0S7BUNTlfoq"
   },
   "source": [
    "### `Q-5:` Get row numbers of NumPy array having element larger than X.\n",
    "```\n",
    "arr = [[1,2,3,4,5],\n",
    "      [10,-3,30,4,5],\n",
    "      [3,2,5,-4,5],\n",
    "      [9,7,3,6,5]]\n",
    "\n",
    "X = 6\n",
    "```"
   ]
  },
  {
   "cell_type": "code",
   "execution_count": 166,
   "metadata": {
    "id": "bi8jRmWhlkBU"
   },
   "outputs": [
    {
     "data": {
      "text/plain": [
       "[1, 3]"
      ]
     },
     "execution_count": 166,
     "metadata": {},
     "output_type": "execute_result"
    }
   ],
   "source": [
    "# code here\n",
    "q5=np.array( [[1,2,3,4,5],\n",
    "      [10,-3,30,4,5],\n",
    "      [3,2,5,-4,5],\n",
    "      [9,7,3,6,5]] )\n",
    "q5a=np.where(q5>6,1,0).sum(axis=1)>0\n",
    "[i for i in range(len(q5a)) if q5a[i]==True]"
   ]
  },
  {
   "cell_type": "markdown",
   "metadata": {
    "id": "DSCQMo4mlnDG"
   },
   "source": [
    " `Q-6:` How to convert an array of arrays into a flat 1d array?\n"
   ]
  },
  {
   "cell_type": "code",
   "execution_count": 167,
   "metadata": {
    "id": "QZhSkUT2lsJW"
   },
   "outputs": [],
   "source": [
    "# These arrays are given.\n",
    "arr1 = np.arange(3)\n",
    "arr2 = np.arange(3,7)\n",
    "arr3 = np.arange(7,10)"
   ]
  },
  {
   "cell_type": "code",
   "execution_count": 170,
   "metadata": {
    "id": "f42OXNrFls0I"
   },
   "outputs": [
    {
     "data": {
      "text/plain": [
       "array([0, 1, 2])"
      ]
     },
     "execution_count": 170,
     "metadata": {},
     "output_type": "execute_result"
    }
   ],
   "source": [
    "# code here\n",
    "np.expand_dims(arr1,axis=0)[0]"
   ]
  },
  {
   "cell_type": "code",
   "execution_count": 175,
   "metadata": {},
   "outputs": [
    {
     "data": {
      "text/plain": [
       "array([3, 4, 5, 6])"
      ]
     },
     "execution_count": 175,
     "metadata": {},
     "output_type": "execute_result"
    }
   ],
   "source": [
    "np.expand_dims(arr2,axis=0)[0]"
   ]
  },
  {
   "cell_type": "code",
   "execution_count": 176,
   "metadata": {},
   "outputs": [
    {
     "data": {
      "text/plain": [
       "array([3, 4, 5, 6])"
      ]
     },
     "execution_count": 176,
     "metadata": {},
     "output_type": "execute_result"
    }
   ],
   "source": [
    "np.expand_dims(arr2,axis=0)[0]"
   ]
  },
  {
   "cell_type": "markdown",
   "metadata": {
    "id": "A1J4oOVCluqO"
   },
   "source": [
    "### `Q-7:` You are given a array. You have to find the minimum and maximum array element and remove that from the array.\n",
    "\n",
    "```python\n",
    "import numpy as np\n",
    "\n",
    "np.random.seed(400)\n",
    "arr = np.random.randint(100, 1000, 200).reshape((1, 200))\n",
    "```"
   ]
  },
  {
   "cell_type": "code",
   "execution_count": 184,
   "metadata": {
    "id": "c6kmgtUJlybZ"
   },
   "outputs": [
    {
     "data": {
      "text/plain": [
       "array([448, 563, 418, 240, 507, 362, 345, 236, 719, 291, 298, 639, 458,\n",
       "       387, 262, 613, 267, 882, 181, 425, 790, 635, 889, 818, 872, 967,\n",
       "       277, 470, 336, 920, 917, 295, 557, 830, 506, 385, 353, 975, 592,\n",
       "       997, 137, 340, 222, 215, 472, 459, 617, 649, 935, 956, 914, 932,\n",
       "       645, 952, 921, 490, 527, 972, 278, 307, 840, 958, 246, 449, 251,\n",
       "       957, 103, 627, 920, 824, 356, 825, 173, 323, 372, 960, 710, 464,\n",
       "       244, 782, 763, 635, 436, 774, 171, 469, 178, 458, 624, 211, 771,\n",
       "       270, 308, 231, 952, 514, 699, 702, 433, 900, 373, 318, 265, 503,\n",
       "       320, 230, 324, 922, 967, 620, 743, 527, 117, 566, 804, 123, 946,\n",
       "       587, 227, 853, 757, 944, 328, 855, 930, 325, 729, 426, 514, 296,\n",
       "       879, 575, 936, 705, 209, 191, 743, 510, 513, 628, 559, 658, 528,\n",
       "       395, 525, 922, 136, 496, 225, 895, 975, 263, 908, 420, 711, 800,\n",
       "       976, 786, 235, 930, 859, 618, 226, 695, 460, 218, 483, 490, 803,\n",
       "       621, 453, 193, 607, 677, 637, 728, 724, 534, 748, 291, 194, 761,\n",
       "       875, 687, 569, 228, 482, 781, 554, 654, 739, 885, 197, 266, 228,\n",
       "       892, 207, 883, 588])"
      ]
     },
     "execution_count": 184,
     "metadata": {},
     "output_type": "execute_result"
    }
   ],
   "source": [
    "# code here\n",
    "import numpy as np\n",
    "\n",
    "np.random.seed(400)\n",
    "arr = np.random.randint(100, 1000, 200).reshape((1, 200))\n",
    "np.delete(arr,np.argmax(arr))"
   ]
  },
  {
   "cell_type": "code",
   "execution_count": 187,
   "metadata": {},
   "outputs": [
    {
     "name": "stdout",
     "output_type": "stream",
     "text": [
      "103\n"
     ]
    },
    {
     "data": {
      "text/plain": [
       "array([448, 563, 418, 240, 507, 362, 345, 236, 719, 291, 298, 639, 458,\n",
       "       387, 262, 613, 267, 882, 181, 425, 790, 635, 889, 818, 872, 967,\n",
       "       277, 470, 336, 920, 917, 295, 557, 830, 506, 385, 353, 975, 592,\n",
       "       997, 137, 340, 222, 215, 472, 459, 617, 649, 935, 956, 914, 932,\n",
       "       645, 952, 921, 490, 527, 972, 278, 307, 840, 958, 246, 449, 251,\n",
       "       957, 627, 920, 824, 356, 825, 173, 323, 372, 960, 710, 464, 244,\n",
       "       782, 763, 635, 436, 774, 171, 469, 178, 458, 624, 211, 771, 270,\n",
       "       308, 231, 952, 514, 699, 702, 433, 900, 373, 318, 998, 265, 503,\n",
       "       320, 230, 324, 922, 967, 620, 743, 527, 117, 566, 804, 123, 946,\n",
       "       587, 227, 853, 757, 944, 328, 855, 930, 325, 729, 426, 514, 296,\n",
       "       879, 575, 936, 705, 209, 191, 743, 510, 513, 628, 559, 658, 528,\n",
       "       395, 525, 922, 136, 496, 225, 895, 975, 263, 908, 420, 711, 800,\n",
       "       976, 786, 235, 930, 859, 618, 226, 695, 460, 218, 483, 490, 803,\n",
       "       621, 453, 193, 607, 677, 637, 728, 724, 534, 748, 291, 194, 761,\n",
       "       875, 687, 569, 228, 482, 781, 554, 654, 739, 885, 197, 266, 228,\n",
       "       892, 207, 883, 588])"
      ]
     },
     "execution_count": 187,
     "metadata": {},
     "output_type": "execute_result"
    }
   ],
   "source": [
    "print(np.min(arr))\n",
    "np.delete(arr,np.argmin(arr))"
   ]
  },
  {
   "cell_type": "markdown",
   "metadata": {
    "id": "0dHN1sdnl0Jy"
   },
   "source": [
    "### `Q-8:` You are given an arrays. You have to limit this array's elements between 100 to 200. $arr ∈ [100, 700]$. So replace those values accordingly with the minimum and maximum value. Then sort the array and perform the cumulative sum of that array."
   ]
  },
  {
   "cell_type": "code",
   "execution_count": 192,
   "metadata": {
    "id": "a3YF_E-Hlza7"
   },
   "outputs": [
    {
     "data": {
      "text/plain": [
       "array([  103,   220,   343,   479,   616,   787,   960,  1138,  1319,\n",
       "        1510,  1703,  1897,  2094,  2294,  2494,  2694,  2894,  3094,\n",
       "        3294,  3494,  3694,  3894,  4094,  4294,  4494,  4694,  4894,\n",
       "        5094,  5294,  5494,  5694,  5894,  6094,  6294,  6494,  6694,\n",
       "        6894,  7094,  7294,  7494,  7694,  7894,  8094,  8294,  8494,\n",
       "        8694,  8894,  9094,  9294,  9494,  9694,  9894, 10094, 10294,\n",
       "       10494, 10694, 10894, 11094, 11294, 11494, 11694, 11894, 12094,\n",
       "       12294, 12494, 12694, 12894, 13094, 13294, 13494, 13694, 13894,\n",
       "       14094, 14294, 14494, 14694, 14894, 15094, 15294, 15494, 15694,\n",
       "       15894, 16094, 16294, 16494, 16694, 16894, 17094, 17294, 17494,\n",
       "       17694, 17894, 18094, 18294, 18494, 18694, 18894, 19094, 19294,\n",
       "       19494, 19694, 19894, 20094, 20294, 20494, 20694, 20894, 21094,\n",
       "       21294, 21494, 21694, 21894, 22094, 22294, 22494, 22694, 22894,\n",
       "       23094, 23294, 23494, 23694, 23894, 24094, 24294, 24494, 24694,\n",
       "       24894, 25094, 25294, 25494, 25694, 25894, 26094, 26294, 26494,\n",
       "       26694, 26894, 27094, 27294, 27494, 27694, 27894, 28094, 28294,\n",
       "       28494, 28694, 28894, 29094, 29294, 29494, 29694, 29894, 30094,\n",
       "       30294, 30494, 30694, 30894, 31094, 31294, 31494, 31694, 31894,\n",
       "       32094, 32294, 32494, 32694, 32894, 33094, 33294, 33494, 33694,\n",
       "       33894, 34094, 34294, 34494, 34694, 34894, 35094, 35294, 35494,\n",
       "       35694, 35894, 36094, 36294, 36494, 36694, 36894, 37094, 37294,\n",
       "       37494, 37694, 37894, 38094, 38294, 38494, 38694, 38894, 39094,\n",
       "       39294, 39494])"
      ]
     },
     "execution_count": 192,
     "metadata": {},
     "output_type": "execute_result"
    }
   ],
   "source": [
    "# code here\n",
    "np.cumsum(np.sort(np.clip(arr,a_min=1,a_max=200)))"
   ]
  },
  {
   "cell_type": "markdown",
   "metadata": {
    "id": "cXj90Susl4-I"
   },
   "source": [
    "### `Q-9:` You are given a array ($arr ∈ [0, 1]$). First you have round off the elements upto 3 decimal places and compare that\n",
    "- 0th percentile == minimum value of the array\n",
    "- 100th percentile == maximum value of the array\n",
    "- also find the difference betwen 51th percenile and 50th percentile values"
   ]
  },
  {
   "cell_type": "code",
   "execution_count": 200,
   "metadata": {
    "id": "SgBEHodgl7Lo"
   },
   "outputs": [
    {
     "name": "stdout",
     "output_type": "stream",
     "text": [
      "[0.61180952 0.2251835  0.6519617  0.21188297 0.27860815 0.62891927]\n"
     ]
    },
    {
     "data": {
      "text/plain": [
       "array([0.612, 0.225, 0.652, 0.212, 0.279, 0.629])"
      ]
     },
     "execution_count": 200,
     "metadata": {},
     "output_type": "execute_result"
    }
   ],
   "source": [
    "# code here\n",
    "q9=np.random.random((6))\n",
    "print(q9)\n",
    "q9=np.round(q9,decimals=3)\n",
    "q9"
   ]
  },
  {
   "cell_type": "code",
   "execution_count": 201,
   "metadata": {},
   "outputs": [
    {
     "data": {
      "text/plain": [
       "0.212"
      ]
     },
     "execution_count": 201,
     "metadata": {},
     "output_type": "execute_result"
    }
   ],
   "source": [
    "np.percentile(q9,0)"
   ]
  },
  {
   "cell_type": "code",
   "execution_count": 202,
   "metadata": {},
   "outputs": [
    {
     "data": {
      "text/plain": [
       "0.652"
      ]
     },
     "execution_count": 202,
     "metadata": {},
     "output_type": "execute_result"
    }
   ],
   "source": [
    "np.percentile(q9,100)"
   ]
  },
  {
   "cell_type": "code",
   "execution_count": 203,
   "metadata": {},
   "outputs": [
    {
     "data": {
      "text/plain": [
       "0.46214999999999995"
      ]
     },
     "execution_count": 203,
     "metadata": {},
     "output_type": "execute_result"
    }
   ],
   "source": [
    "np.percentile(q9,51)"
   ]
  },
  {
   "cell_type": "code",
   "execution_count": 204,
   "metadata": {},
   "outputs": [
    {
     "data": {
      "text/plain": [
       "0.4455"
      ]
     },
     "execution_count": 204,
     "metadata": {},
     "output_type": "execute_result"
    }
   ],
   "source": [
    "np.percentile(q9,50)"
   ]
  }
 ],
 "metadata": {
  "colab": {
   "provenance": []
  },
  "kernelspec": {
   "display_name": "Python 3 (ipykernel)",
   "language": "python",
   "name": "python3"
  },
  "language_info": {
   "codemirror_mode": {
    "name": "ipython",
    "version": 3
   },
   "file_extension": ".py",
   "mimetype": "text/x-python",
   "name": "python",
   "nbconvert_exporter": "python",
   "pygments_lexer": "ipython3",
   "version": "3.11.5"
  }
 },
 "nbformat": 4,
 "nbformat_minor": 1
}
