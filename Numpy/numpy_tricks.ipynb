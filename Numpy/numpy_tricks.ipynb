{
 "cells": [
  {
   "cell_type": "code",
   "execution_count": 1,
   "id": "82466f01",
   "metadata": {},
   "outputs": [],
   "source": [
    "import numpy as np"
   ]
  },
  {
   "cell_type": "markdown",
   "id": "c7da6825",
   "metadata": {},
   "source": [
    "np.sort()"
   ]
  },
  {
   "cell_type": "code",
   "execution_count": 18,
   "id": "69fd3d84",
   "metadata": {},
   "outputs": [
    {
     "name": "stdout",
     "output_type": "stream",
     "text": [
      "[19 18  4 17 14  2 13  3 15 12]\n"
     ]
    },
    {
     "data": {
      "text/plain": [
       "array([19, 18, 17, 15, 14, 13, 12,  4,  3,  2])"
      ]
     },
     "execution_count": 18,
     "metadata": {},
     "output_type": "execute_result"
    }
   ],
   "source": [
    "#np.sort -> return a sorted copy of numpy array\n",
    "a = np.random.randint(1,20,10)\n",
    "print(a)\n",
    "np.sort(a)[::-1]"
   ]
  },
  {
   "cell_type": "code",
   "execution_count": 21,
   "id": "b8a33a51",
   "metadata": {},
   "outputs": [
    {
     "name": "stdout",
     "output_type": "stream",
     "text": [
      "[[19 31 25 12]\n",
      " [47 39  5 79]\n",
      " [ 5 49 16 26]\n",
      " [73 89 66 42]\n",
      " [46 67 84 20]\n",
      " [50 93 52 62]]\n"
     ]
    },
    {
     "data": {
      "text/plain": [
       "array([[ 5, 31,  5, 12],\n",
       "       [19, 39, 16, 20],\n",
       "       [46, 49, 25, 26],\n",
       "       [47, 67, 52, 42],\n",
       "       [50, 89, 66, 62],\n",
       "       [73, 93, 84, 79]])"
      ]
     },
     "execution_count": 21,
     "metadata": {},
     "output_type": "execute_result"
    }
   ],
   "source": [
    "a = np.random.randint(1,100,24).reshape(6,4)\n",
    "print(a)\n",
    "np.sort(a,axis=0) #column wise sorting for axis=0"
   ]
  },
  {
   "cell_type": "markdown",
   "id": "e5619f88",
   "metadata": {},
   "source": [
    "np.append()"
   ]
  },
  {
   "cell_type": "code",
   "execution_count": 20,
   "id": "a5323351",
   "metadata": {},
   "outputs": [
    {
     "name": "stdout",
     "output_type": "stream",
     "text": [
      "[19 18  4 17 14  2 13  3 15 12]\n"
     ]
    },
    {
     "data": {
      "text/plain": [
       "array([19, 18,  4, 17, 14,  2, 13,  3, 15, 12, 10])"
      ]
     },
     "execution_count": 20,
     "metadata": {},
     "output_type": "execute_result"
    }
   ],
   "source": [
    "print(a)\n",
    "np.append(a,10)"
   ]
  },
  {
   "cell_type": "code",
   "execution_count": 39,
   "id": "3106bbce",
   "metadata": {},
   "outputs": [
    {
     "name": "stdout",
     "output_type": "stream",
     "text": [
      "[[19 31 25 12]\n",
      " [47 39  5 79]\n",
      " [ 5 49 16 26]\n",
      " [73 89 66 42]\n",
      " [46 67 84 20]\n",
      " [50 93 52 62]]\n",
      "6\n"
     ]
    },
    {
     "data": {
      "text/plain": [
       "array([[19., 31., 25., 12.,  1.],\n",
       "       [47., 39.,  5., 79.,  1.],\n",
       "       [ 5., 49., 16., 26.,  1.],\n",
       "       [73., 89., 66., 42.,  1.],\n",
       "       [46., 67., 84., 20.,  1.],\n",
       "       [50., 93., 52., 62.,  1.]])"
      ]
     },
     "execution_count": 39,
     "metadata": {},
     "output_type": "execute_result"
    }
   ],
   "source": [
    "print(a)\n",
    "print(a.shape[0])\n",
    "np.append(a,np.ones((a.shape[0],1)),axis=1)"
   ]
  },
  {
   "cell_type": "markdown",
   "id": "21dc5ea0",
   "metadata": {},
   "source": [
    "np.concatenate()"
   ]
  },
  {
   "cell_type": "code",
   "execution_count": 51,
   "id": "3098c29d",
   "metadata": {},
   "outputs": [
    {
     "name": "stdout",
     "output_type": "stream",
     "text": [
      "[[ 0  1  2  3]\n",
      " [ 4  5  6  7]\n",
      " [ 8  9 10 11]]\n",
      "[[12 13 14 15]\n",
      " [16 17 18 19]\n",
      " [20 21 22 23]]\n",
      "[[ 0  1  2  3]\n",
      " [ 4  5  6  7]\n",
      " [ 8  9 10 11]\n",
      " [12 13 14 15]\n",
      " [16 17 18 19]\n",
      " [20 21 22 23]]\n",
      "[[ 0  1  2  3 12 13 14 15]\n",
      " [ 4  5  6  7 16 17 18 19]\n",
      " [ 8  9 10 11 20 21 22 23]]\n"
     ]
    }
   ],
   "source": [
    "a = np.arange(12).reshape(3,4)\n",
    "b = np.arange(12,24).reshape(3,4)\n",
    "print(a)\n",
    "print(b)\n",
    "print(np.concatenate((a,b),axis=0))\n",
    "print(np.concatenate((a,b),axis=1))"
   ]
  },
  {
   "cell_type": "markdown",
   "id": "4f721208",
   "metadata": {},
   "source": [
    "np.unique()"
   ]
  },
  {
   "cell_type": "code",
   "execution_count": 52,
   "id": "bc3cdb65",
   "metadata": {},
   "outputs": [
    {
     "data": {
      "text/plain": [
       "array([1, 2, 4, 5, 7])"
      ]
     },
     "execution_count": 52,
     "metadata": {},
     "output_type": "execute_result"
    }
   ],
   "source": [
    "a = np.array([1,1,2,2,4,4,5,5,5,5,7,4])\n",
    "np.unique(a)"
   ]
  },
  {
   "cell_type": "markdown",
   "id": "297408d7",
   "metadata": {},
   "source": [
    "np.expand_dims()"
   ]
  },
  {
   "cell_type": "code",
   "execution_count": 60,
   "id": "1ced7591",
   "metadata": {},
   "outputs": [
    {
     "name": "stdout",
     "output_type": "stream",
     "text": [
      "[19 65 88 66 51 69 30 30  2 59 47 47]\n",
      "[[19 65 88 66 51 69 30 30  2 59 47 47]]\n",
      "[[19]\n",
      " [65]\n",
      " [88]\n",
      " [66]\n",
      " [51]\n",
      " [69]\n",
      " [30]\n",
      " [30]\n",
      " [ 2]\n",
      " [59]\n",
      " [47]\n",
      " [47]]\n"
     ]
    }
   ],
   "source": [
    "a = np.random.randint(1,100,12)\n",
    "print(a)\n",
    "print(np.expand_dims(a,axis=0))\n",
    "print(np.expand_dims(a,axis=1))"
   ]
  },
  {
   "cell_type": "markdown",
   "id": "72d4c110",
   "metadata": {},
   "source": [
    "np.where()"
   ]
  },
  {
   "cell_type": "code",
   "execution_count": 69,
   "id": "e5070f46",
   "metadata": {},
   "outputs": [
    {
     "name": "stdout",
     "output_type": "stream",
     "text": [
      "[19 65 88 66 51 69 30 30  2 59 47 47]\n"
     ]
    },
    {
     "data": {
      "text/plain": [
       "(array([1, 2, 3, 4, 5, 9], dtype=int64),)"
      ]
     },
     "execution_count": 69,
     "metadata": {},
     "output_type": "execute_result"
    }
   ],
   "source": [
    "print(a)\n",
    "np.where(a>50)"
   ]
  },
  {
   "cell_type": "code",
   "execution_count": 81,
   "id": "90423751",
   "metadata": {},
   "outputs": [
    {
     "data": {
      "text/plain": [
       "array([19,  0,  0,  0,  0,  0, 30, 30,  2,  0, 47, 47])"
      ]
     },
     "execution_count": 81,
     "metadata": {},
     "output_type": "execute_result"
    }
   ],
   "source": [
    "# np.where(condition,true,false)\n",
    "np.where(a>50,0,a)"
   ]
  },
  {
   "cell_type": "code",
   "execution_count": 82,
   "id": "c0833655",
   "metadata": {},
   "outputs": [
    {
     "data": {
      "text/plain": [
       "array([19, 65, -1, -1, 51, 69, -1, -1, -1, 59, 47, 47])"
      ]
     },
     "execution_count": 82,
     "metadata": {},
     "output_type": "execute_result"
    }
   ],
   "source": [
    "np.where(a%2==0,-1,a)"
   ]
  },
  {
   "cell_type": "markdown",
   "id": "37e2df24",
   "metadata": {},
   "source": [
    "np.argmax()/np.argmin()"
   ]
  },
  {
   "cell_type": "code",
   "execution_count": 86,
   "id": "82eca513",
   "metadata": {},
   "outputs": [
    {
     "name": "stdout",
     "output_type": "stream",
     "text": [
      "[19 65 88 66 51 69 30 30  2 59 47 47]\n"
     ]
    },
    {
     "data": {
      "text/plain": [
       "2"
      ]
     },
     "execution_count": 86,
     "metadata": {},
     "output_type": "execute_result"
    }
   ],
   "source": [
    "print(a)\n",
    "np.argmax(a)"
   ]
  },
  {
   "cell_type": "code",
   "execution_count": 91,
   "id": "96ef5cb7",
   "metadata": {},
   "outputs": [
    {
     "name": "stdout",
     "output_type": "stream",
     "text": [
      "[[12 13 14 15]\n",
      " [16 17 18 19]\n",
      " [20 21 22 23]]\n"
     ]
    },
    {
     "data": {
      "text/plain": [
       "array([3, 3, 3], dtype=int64)"
      ]
     },
     "execution_count": 91,
     "metadata": {},
     "output_type": "execute_result"
    }
   ],
   "source": [
    "print(b)\n",
    "np.argmax(b,axis=1)"
   ]
  },
  {
   "cell_type": "code",
   "execution_count": 93,
   "id": "eb59963a",
   "metadata": {},
   "outputs": [
    {
     "name": "stdout",
     "output_type": "stream",
     "text": [
      "[19 65 88 66 51 69 30 30  2 59 47 47]\n"
     ]
    },
    {
     "data": {
      "text/plain": [
       "8"
      ]
     },
     "execution_count": 93,
     "metadata": {},
     "output_type": "execute_result"
    }
   ],
   "source": [
    "print(a)\n",
    "np.argmin(a)"
   ]
  },
  {
   "cell_type": "markdown",
   "id": "e3494b80",
   "metadata": {},
   "source": [
    "np.cumsum()"
   ]
  },
  {
   "cell_type": "code",
   "execution_count": 96,
   "id": "f6ec1d26",
   "metadata": {},
   "outputs": [
    {
     "name": "stdout",
     "output_type": "stream",
     "text": [
      "[19 65 88 66 51 69 30 30  2 59 47 47]\n"
     ]
    },
    {
     "data": {
      "text/plain": [
       "array([ 19,  84, 172, 238, 289, 358, 388, 418, 420, 479, 526, 573])"
      ]
     },
     "execution_count": 96,
     "metadata": {},
     "output_type": "execute_result"
    }
   ],
   "source": [
    "print(a)\n",
    "np.cumsum(a)"
   ]
  },
  {
   "cell_type": "code",
   "execution_count": 103,
   "id": "eb289f22",
   "metadata": {},
   "outputs": [
    {
     "name": "stdout",
     "output_type": "stream",
     "text": [
      "[[12 13 14 15]\n",
      " [16 17 18 19]\n",
      " [20 21 22 23]]\n"
     ]
    },
    {
     "data": {
      "text/plain": [
       "array([[12, 25, 39, 54],\n",
       "       [16, 33, 51, 70],\n",
       "       [20, 41, 63, 86]])"
      ]
     },
     "execution_count": 103,
     "metadata": {},
     "output_type": "execute_result"
    }
   ],
   "source": [
    "print(b)\n",
    "np.cumsum(b,axis=1)"
   ]
  },
  {
   "cell_type": "code",
   "execution_count": 107,
   "id": "0a266b55",
   "metadata": {},
   "outputs": [
    {
     "name": "stdout",
     "output_type": "stream",
     "text": [
      "[19 65 88 66 51 69 30 30  2 59 47 47]\n",
      "[                 19                1235              108680\n",
      "             7172880           365816880         25241364720\n",
      "        757240941600      22717228248000      45434456496000\n",
      "    2680632933264000  125989747863408000 5921518149580176000]\n",
      "[[12 13 14 15]\n",
      " [16 17 18 19]\n",
      " [20 21 22 23]]\n",
      "[[    12    156   2184  32760]\n",
      " [    16    272   4896  93024]\n",
      " [    20    420   9240 212520]]\n"
     ]
    }
   ],
   "source": [
    "print(a)\n",
    "print(np.cumprod(a,dtype=np.int64))\n",
    "print(b)\n",
    "print(np.cumprod(b,axis=1,dtype=np.int64))"
   ]
  },
  {
   "cell_type": "markdown",
   "id": "04bc6146",
   "metadata": {},
   "source": [
    "np.percentile()"
   ]
  },
  {
   "cell_type": "code",
   "execution_count": 113,
   "id": "e2e238a2",
   "metadata": {},
   "outputs": [
    {
     "name": "stdout",
     "output_type": "stream",
     "text": [
      "[19 65 88 66 51 69 30 30  2 59 47 47]\n"
     ]
    },
    {
     "data": {
      "text/plain": [
       "49.0"
      ]
     },
     "execution_count": 113,
     "metadata": {},
     "output_type": "execute_result"
    }
   ],
   "source": [
    "print(a)\n",
    "np.percentile(a,50)"
   ]
  },
  {
   "cell_type": "markdown",
   "id": "64e984e9",
   "metadata": {},
   "source": [
    "np.histogram()"
   ]
  },
  {
   "cell_type": "code",
   "execution_count": 119,
   "id": "df3a699a",
   "metadata": {},
   "outputs": [
    {
     "name": "stdout",
     "output_type": "stream",
     "text": [
      "[19 65 88 66 51 69 30 30  2 59 47 47]\n"
     ]
    },
    {
     "data": {
      "text/plain": [
       "(array([2, 2, 4, 3, 1], dtype=int64), array([  0,  20,  40,  60,  80, 100]))"
      ]
     },
     "execution_count": 119,
     "metadata": {},
     "output_type": "execute_result"
    }
   ],
   "source": [
    "print(a)\n",
    "np.histogram(a,bins=[0,20,40,60,80,100])"
   ]
  },
  {
   "cell_type": "markdown",
   "id": "2f4c182e",
   "metadata": {},
   "source": [
    "np.corrcoef()"
   ]
  },
  {
   "cell_type": "code",
   "execution_count": 132,
   "id": "178ac7ec",
   "metadata": {},
   "outputs": [
    {
     "name": "stdout",
     "output_type": "stream",
     "text": [
      "[19 65 88 66 51 69 30 30  2 59 47 47]\n"
     ]
    },
    {
     "data": {
      "text/plain": [
       "array([[1.        , 0.97683083],\n",
       "       [0.97683083, 1.        ]])"
      ]
     },
     "execution_count": 132,
     "metadata": {},
     "output_type": "execute_result"
    }
   ],
   "source": [
    "print(a)\n",
    "# 1->inversly corelated, 1->corelated linaerly\n",
    "np.corrcoef([5,2,3,4],[10,3,4,8])"
   ]
  },
  {
   "cell_type": "markdown",
   "id": "7a06021d",
   "metadata": {},
   "source": [
    "np.isin()"
   ]
  },
  {
   "cell_type": "code",
   "execution_count": 141,
   "id": "ee4eeb4c",
   "metadata": {},
   "outputs": [
    {
     "name": "stdout",
     "output_type": "stream",
     "text": [
      "[19 65 88 66 51 69 30 30  2 59 47 47]\n",
      "[False False False False  True False  True  True False False False False]\n",
      "[51 30 30]\n"
     ]
    }
   ],
   "source": [
    "i = [10,20,30,40,51,60,70,80,90,100]\n",
    "print(a)\n",
    "print(np.isin(a,i))\n",
    "print(a[np.isin(a,i)])"
   ]
  },
  {
   "cell_type": "markdown",
   "id": "20f5cde0",
   "metadata": {},
   "source": [
    "np.flip()"
   ]
  },
  {
   "cell_type": "code",
   "execution_count": 150,
   "id": "82352a1f",
   "metadata": {},
   "outputs": [
    {
     "name": "stdout",
     "output_type": "stream",
     "text": [
      "[[12 13 14 15]\n",
      " [16 17 18 19]\n",
      " [20 21 22 23]]\n",
      "[[23 22 21 20]\n",
      " [19 18 17 16]\n",
      " [15 14 13 12]]\n",
      "[[20 21 22 23]\n",
      " [16 17 18 19]\n",
      " [12 13 14 15]]\n"
     ]
    }
   ],
   "source": [
    "print(b)\n",
    "print(np.flip(b))\n",
    "print(np.flip(b,axis=0))"
   ]
  },
  {
   "cell_type": "markdown",
   "id": "fe45c2fd",
   "metadata": {},
   "source": [
    "np.put()"
   ]
  },
  {
   "cell_type": "code",
   "execution_count": 152,
   "id": "76a78e39",
   "metadata": {},
   "outputs": [
    {
     "name": "stdout",
     "output_type": "stream",
     "text": [
      "[19 65 88 66 51 69 30 30  2 59 47 47]\n"
     ]
    },
    {
     "data": {
      "text/plain": [
       "array([65, 19, 88, 66, 51, 69, 30, 30,  2, 59, 47, 47])"
      ]
     },
     "execution_count": 152,
     "metadata": {},
     "output_type": "execute_result"
    }
   ],
   "source": [
    "print(a)\n",
    "np.put(a,[0,1],[65,19]) # changes the oiginal array\n",
    "a"
   ]
  },
  {
   "cell_type": "markdown",
   "id": "9321d75f",
   "metadata": {},
   "source": [
    "np.delete()"
   ]
  },
  {
   "cell_type": "code",
   "execution_count": 159,
   "id": "aba8d1b3",
   "metadata": {},
   "outputs": [
    {
     "name": "stdout",
     "output_type": "stream",
     "text": [
      "[65 19 88 66 51 69 30 30  2 59 47 47]\n"
     ]
    },
    {
     "data": {
      "text/plain": [
       "array([65, 19, 88, 66, 51, 69,  2, 59, 47, 47])"
      ]
     },
     "execution_count": 159,
     "metadata": {},
     "output_type": "execute_result"
    }
   ],
   "source": [
    "print(a)\n",
    "np.delete(a,[6,7])"
   ]
  },
  {
   "cell_type": "markdown",
   "id": "7281e111",
   "metadata": {},
   "source": [
    "### Set functions"
   ]
  },
  {
   "cell_type": "code",
   "execution_count": 169,
   "id": "50c16bef",
   "metadata": {},
   "outputs": [
    {
     "name": "stdout",
     "output_type": "stream",
     "text": [
      "[0 1 2 3 4] [ 7  8  9 10 11]\n"
     ]
    },
    {
     "data": {
      "text/plain": [
       "array([ 0,  1,  2,  3,  4,  7,  8,  9, 10, 11])"
      ]
     },
     "execution_count": 169,
     "metadata": {},
     "output_type": "execute_result"
    }
   ],
   "source": [
    "j=np.arange(5)\n",
    "k=np.arange(7,12)\n",
    "print(j,k)\n",
    "np.union1d(j,k)"
   ]
  },
  {
   "cell_type": "code",
   "execution_count": 172,
   "id": "e9116f20",
   "metadata": {},
   "outputs": [
    {
     "name": "stdout",
     "output_type": "stream",
     "text": [
      "[0 1 2 3 4] [ 7  8  9 10 11]\n"
     ]
    },
    {
     "data": {
      "text/plain": [
       "array([0, 1, 4])"
      ]
     },
     "execution_count": 172,
     "metadata": {},
     "output_type": "execute_result"
    }
   ],
   "source": [
    "print(j,k)\n",
    "np.setdiff1d(j,[2,7,3])"
   ]
  },
  {
   "cell_type": "code",
   "execution_count": 173,
   "id": "c3ca6ea7",
   "metadata": {},
   "outputs": [
    {
     "data": {
      "text/plain": [
       "array([4, 5, 8, 9])"
      ]
     },
     "execution_count": 173,
     "metadata": {},
     "output_type": "execute_result"
    }
   ],
   "source": [
    "np.setxor1d([2,3,4,5],[3,2,8,9])"
   ]
  },
  {
   "cell_type": "code",
   "execution_count": 174,
   "id": "b9b6665e",
   "metadata": {},
   "outputs": [
    {
     "data": {
      "text/plain": [
       "array([False, False, False,  True, False])"
      ]
     },
     "execution_count": 174,
     "metadata": {},
     "output_type": "execute_result"
    }
   ],
   "source": [
    "np.in1d(j,3)"
   ]
  },
  {
   "cell_type": "markdown",
   "id": "dc35fa46",
   "metadata": {},
   "source": [
    "np.clip()"
   ]
  },
  {
   "cell_type": "code",
   "execution_count": 180,
   "id": "94c5fd1f",
   "metadata": {},
   "outputs": [
    {
     "name": "stdout",
     "output_type": "stream",
     "text": [
      "[65 19 88 66 51 69 30 30  2 59 47 47]\n"
     ]
    },
    {
     "data": {
      "text/plain": [
       "array([65, 50, 70, 66, 51, 69, 50, 50, 50, 59, 50, 50])"
      ]
     },
     "execution_count": 180,
     "metadata": {},
     "output_type": "execute_result"
    }
   ],
   "source": [
    "print(a)\n",
    "np.clip(a,a_min=50,a_max=70)"
   ]
  }
 ],
 "metadata": {
  "kernelspec": {
   "display_name": "Python 3 (ipykernel)",
   "language": "python",
   "name": "python3"
  },
  "language_info": {
   "codemirror_mode": {
    "name": "ipython",
    "version": 3
   },
   "file_extension": ".py",
   "mimetype": "text/x-python",
   "name": "python",
   "nbconvert_exporter": "python",
   "pygments_lexer": "ipython3",
   "version": "3.11.5"
  }
 },
 "nbformat": 4,
 "nbformat_minor": 5
}
